{
 "cells": [
  {
   "cell_type": "markdown",
   "id": "bce2bb89",
   "metadata": {},
   "source": [
    "# ADS 509 Assignment 5.1: Topic Modeling\n",
    "\n",
    "This notebook holds Assignment 5.1 for Module 5 in ADS 509, Applied Text Mining. Work through this notebook, writing code and answering questions where required. \n",
    "\n",
    "In this assignment you will work with a categorical corpus that accompanies `nltk`. You will build the three types of topic models described in Chapter 8 of _Blueprints for Text Analytics using Python_: NMF, LSA, and LDA. You will compare these models to the true categories. \n"
   ]
  },
  {
   "cell_type": "markdown",
   "id": "d87e2c06",
   "metadata": {},
   "source": [
    "## General Assignment Instructions\n",
    "\n",
    "These instructions are included in every assignment, to remind you of the coding standards for the class. Feel free to delete this cell after reading it. \n",
    "\n",
    "One sign of mature code is conforming to a style guide. We recommend the [Google Python Style Guide](https://google.github.io/styleguide/pyguide.html). If you use a different style guide, please include a cell with a link. \n",
    "\n",
    "Your code should be relatively easy-to-read, sensibly commented, and clean. Writing code is a messy process, so please be sure to edit your final submission. Remove any cells that are not needed or parts of cells that contain unnecessary code. Remove inessential `import` statements and make sure that all such statements are moved into the designated cell. \n",
    "\n",
    "Make use of non-code cells for written commentary. These cells should be grammatical and clearly written. In some of these cells you will have questions to answer. The questions will be marked by a \"Q:\" and will have a corresponding \"A:\" spot for you. *Make sure to answer every question marked with a `Q:` for full credit.* \n"
   ]
  },
  {
   "cell_type": "code",
   "execution_count": 6,
   "id": "a85bce08",
   "metadata": {},
   "outputs": [],
   "source": [
    "# These libraries may be useful to you\n",
    "\n",
    "from nltk.corpus import brown\n",
    "\n",
    "import numpy as np\n",
    "import pandas as pd\n",
    "from tqdm.auto import tqdm\n",
    "\n",
    "#import gensim\n",
    "#import gensim.corpora as corpora\n",
    "#from gensim.utils import simple_preprocess\n",
    "#from gensim.models import CoherenceModel,LdaMulticore, Phrases \n",
    "#from gensim.models.phrases import Phraser \n",
    "#from gensim.corpora import Dictionary\n",
    "\n",
    "import pyLDAvis\n",
    "import pyLDAvis.sklearn\n",
    "import pyLDAvis.gensim_models\n",
    "\n",
    "import spacy \n",
    "from sklearn.feature_extraction.text import TfidfVectorizer, CountVectorizer\n",
    "from sklearn.decomposition import NMF, TruncatedSVD, LatentDirichletAllocation\n",
    "\n",
    "from spacy.lang.en.stop_words import STOP_WORDS as stopwords\n",
    "\n",
    "from collections import Counter, defaultdict\n",
    "\n",
    "\n",
    "nlp = spacy.load('en_core_web_sm')\n",
    "\n"
   ]
  },
  {
   "cell_type": "code",
   "execution_count": 41,
   "id": "a218df60",
   "metadata": {},
   "outputs": [],
   "source": [
    "# add any additional libaries you need here\n",
    "#!pip install pyLDAvis\n",
    "#!pip install \"spacy~=3.3.1\"\n",
    "#!python -m spacy download en_core_web_sm\n",
    "\n",
    "#import nltk\n",
    "#nltk.download('brown')\n",
    "\n",
    "from nltk.probability import FreqDist\n",
    "from nltk.corpus import stopwords\n",
    "from string import punctuation"
   ]
  },
  {
   "cell_type": "code",
   "execution_count": 73,
   "id": "183f68dc",
   "metadata": {},
   "outputs": [],
   "source": [
    "# Stopwords\n",
    "sw = stopwords.words(\"english\")\n",
    "\n",
    "# Some punctuation variations\n",
    "punctuation = set(punctuation) # speeds up comparison\n",
    "tw_punct = punctuation - {\"#\"}\n",
    "\n",
    "def remove_stop(tokens) :\n",
    "    # modify this function to remove stopwords\n",
    "    tokens_wo_sw = []\n",
    "    for w in tokens:\n",
    "        if w.lower() not in sw:\n",
    "            tokens_wo_sw.append(w)\n",
    "    return(tokens_wo_sw)\n",
    " \n",
    "def remove_punctuation(text, punct_set=tw_punct): \n",
    "    for ele in text:\n",
    "        if ele in punct_set:\n",
    "            text = text.replace(ele, \"\")\n",
    "    return(text)"
   ]
  },
  {
   "cell_type": "code",
   "execution_count": 3,
   "id": "494de237",
   "metadata": {},
   "outputs": [],
   "source": [
    "# This function comes from the BTAP repo.\n",
    "\n",
    "def display_topics(model, features, no_top_words=5):\n",
    "    for topic, words in enumerate(model.components_):\n",
    "        total = words.sum()\n",
    "        largest = words.argsort()[::-1] # invert sort order\n",
    "        print(\"\\nTopic %02d\" % topic)\n",
    "        for i in range(0, no_top_words):\n",
    "            print(\"  %s (%2.2f)\" % (features[largest[i]], abs(words[largest[i]]*100.0/total)))"
   ]
  },
  {
   "cell_type": "markdown",
   "id": "a30a901c",
   "metadata": {},
   "source": [
    "## Getting to Know the Brown Corpus\n",
    "\n",
    "Let's spend a bit of time getting to know what's in the Brown corpus, our NLTK example of an \"overlapping\" corpus."
   ]
  },
  {
   "cell_type": "code",
   "execution_count": 9,
   "id": "457c59ed",
   "metadata": {},
   "outputs": [
    {
     "name": "stdout",
     "output_type": "stream",
     "text": [
      "For adventure we have 29 articles.\n",
      "For belles_lettres we have 75 articles.\n",
      "For editorial we have 27 articles.\n",
      "For fiction we have 29 articles.\n",
      "For government we have 30 articles.\n",
      "For hobbies we have 36 articles.\n",
      "For humor we have 9 articles.\n",
      "For learned we have 80 articles.\n",
      "For lore we have 48 articles.\n",
      "For mystery we have 24 articles.\n",
      "For news we have 44 articles.\n",
      "For religion we have 17 articles.\n",
      "For reviews we have 17 articles.\n",
      "For romance we have 29 articles.\n",
      "For science_fiction we have 6 articles.\n"
     ]
    }
   ],
   "source": [
    "# categories of articles in Brown corpus\n",
    "for category in brown.categories() :\n",
    "    print(f\"For {category} we have {len(brown.fileids(categories=category))} articles.\")"
   ]
  },
  {
   "cell_type": "markdown",
   "id": "23fb133c",
   "metadata": {},
   "source": [
    "Let's create a dataframe of the articles in of hobbies, editorial, government, news, and romance."
   ]
  },
  {
   "cell_type": "code",
   "execution_count": 10,
   "id": "18f50b9d",
   "metadata": {},
   "outputs": [
    {
     "data": {
      "text/plain": [
       "(166, 3)"
      ]
     },
     "execution_count": 10,
     "metadata": {},
     "output_type": "execute_result"
    }
   ],
   "source": [
    "categories = ['editorial','government','news','romance','hobbies'] \n",
    "\n",
    "category_list = []\n",
    "file_ids = []\n",
    "texts = []\n",
    "\n",
    "for category in categories : \n",
    "    for file_id in brown.fileids(categories=category) :\n",
    "        \n",
    "        # build some lists for a dataframe\n",
    "        category_list.append(category)\n",
    "        file_ids.append(file_id)\n",
    "        \n",
    "        text = brown.words(fileids=file_id)\n",
    "        texts.append(\" \".join(text))\n",
    "\n",
    "        \n",
    "        \n",
    "df = pd.DataFrame()\n",
    "df['category'] = category_list\n",
    "df['id'] = file_ids\n",
    "df['text'] = texts \n",
    "\n",
    "df.shape"
   ]
  },
  {
   "cell_type": "code",
   "execution_count": 11,
   "id": "586f47de",
   "metadata": {},
   "outputs": [],
   "source": [
    "# Let's add some helpful columns on the df\n",
    "df['char_len'] = df['text'].apply(len)\n",
    "df['word_len'] = df['text'].apply(lambda x: len(x.split()))\n"
   ]
  },
  {
   "cell_type": "code",
   "execution_count": 12,
   "id": "2128fd2d",
   "metadata": {},
   "outputs": [
    {
     "data": {
      "text/plain": [
       "<AxesSubplot:xlabel='category'>"
      ]
     },
     "execution_count": 12,
     "metadata": {},
     "output_type": "execute_result"
    },
    {
     "data": {
      "image/png": "[encoded data removed]",
      "text/plain": [
       "<Figure size 720x432 with 1 Axes>"
      ]
     },
     "metadata": {
      "needs_background": "light"
     },
     "output_type": "display_data"
    }
   ],
   "source": [
    "%matplotlib inline\n",
    "df.groupby('category').agg({'word_len': 'mean'}).plot.bar(figsize=(10,6))"
   ]
  },
  {
   "cell_type": "markdown",
   "id": "554ffeb5",
   "metadata": {},
   "source": [
    "Now do our TF-IDF and Count vectorizations."
   ]
  },
  {
   "cell_type": "code",
   "execution_count": 13,
   "id": "21a7d247",
   "metadata": {},
   "outputs": [
    {
     "name": "stderr",
     "output_type": "stream",
     "text": [
      "C:\\Users\\lenny\\anaconda3\\envs\\my-env-for-ads509\\lib\\site-packages\\sklearn\\feature_extraction\\text.py:404: UserWarning: Your stop_words may be inconsistent with your preprocessing. Tokenizing the stop words generated tokens ['ll', 've'] not in stop_words.\n",
      "  warnings.warn(\n"
     ]
    },
    {
     "data": {
      "text/plain": [
       "(166, 4941)"
      ]
     },
     "execution_count": 13,
     "metadata": {},
     "output_type": "execute_result"
    }
   ],
   "source": [
    "count_text_vectorizer = CountVectorizer(stop_words=stopwords, min_df=5, max_df=0.7)\n",
    "count_text_vectors = count_text_vectorizer.fit_transform(df[\"text\"])\n",
    "count_text_vectors.shape"
   ]
  },
  {
   "cell_type": "code",
   "execution_count": 14,
   "id": "875deba9",
   "metadata": {},
   "outputs": [
    {
     "data": {
      "text/plain": [
       "(166, 4941)"
      ]
     },
     "execution_count": 14,
     "metadata": {},
     "output_type": "execute_result"
    }
   ],
   "source": [
    "tfidf_text_vectorizer = TfidfVectorizer(stop_words=stopwords, min_df=5, max_df=0.7)\n",
    "tfidf_text_vectors = tfidf_text_vectorizer.fit_transform(df['text'])\n",
    "tfidf_text_vectors.shape"
   ]
  },
  {
   "cell_type": "markdown",
   "id": "a1062b21",
   "metadata": {},
   "source": [
    "Q: What do the two data frames `count_text_vectors` and `tfidf_text_vectors` hold? \n",
    "\n",
    "A: count_text_vectors stores a matrix of token counts whereas tfidf_text_vectors stores a matrix of tokens relative to document importance (i.e. puts weights on more rare words so they are not overshadowed by words like \"a, the, in\"."
   ]
  },
  {
   "cell_type": "markdown",
   "id": "f77c3f94",
   "metadata": {},
   "source": [
    "## Fitting a Non-Negative Matrix Factorization Model\n",
    "\n",
    "In this section the code to fit a five-topic NMF model has already been written. This code comes directly from the [BTAP repo](https://github.com/blueprints-for-text-analytics-python/blueprints-text), which will help you tremendously in the coming sections. "
   ]
  },
  {
   "cell_type": "code",
   "execution_count": 17,
   "id": "d28745a3",
   "metadata": {},
   "outputs": [],
   "source": [
    "nmf_text_model = NMF(n_components=5, random_state=314)\n",
    "W_text_matrix = nmf_text_model.fit_transform(tfidf_text_vectors)\n",
    "H_text_matrix = nmf_text_model.components_"
   ]
  },
  {
   "cell_type": "code",
   "execution_count": 18,
   "id": "a67185e7",
   "metadata": {},
   "outputs": [
    {
     "name": "stdout",
     "output_type": "stream",
     "text": [
      "\n",
      "Topic 00\n",
      "  mr (0.51)\n",
      "  president (0.45)\n",
      "  kennedy (0.43)\n",
      "  united (0.42)\n",
      "  khrushchev (0.40)\n",
      "\n",
      "Topic 01\n",
      "  said (0.88)\n",
      "  didn (0.46)\n",
      "  ll (0.45)\n",
      "  thought (0.42)\n",
      "  man (0.37)\n",
      "\n",
      "Topic 02\n",
      "  state (0.39)\n",
      "  development (0.36)\n",
      "  tax (0.33)\n",
      "  sales (0.30)\n",
      "  program (0.25)\n",
      "\n",
      "Topic 03\n",
      "  mrs (2.61)\n",
      "  mr (0.78)\n",
      "  said (0.63)\n",
      "  miss (0.52)\n",
      "  car (0.51)\n",
      "\n",
      "Topic 04\n",
      "  game (1.02)\n",
      "  league (0.74)\n",
      "  ball (0.72)\n",
      "  baseball (0.71)\n",
      "  team (0.66)\n"
     ]
    },
    {
     "name": "stderr",
     "output_type": "stream",
     "text": [
      "C:\\Users\\lenny\\anaconda3\\envs\\my-env-for-ads509\\lib\\site-packages\\sklearn\\utils\\deprecation.py:87: FutureWarning: Function get_feature_names is deprecated; get_feature_names is deprecated in 1.0 and will be removed in 1.2. Please use get_feature_names_out instead.\n",
      "  warnings.warn(msg, category=FutureWarning)\n"
     ]
    }
   ],
   "source": [
    "display_topics(nmf_text_model, tfidf_text_vectorizer.get_feature_names())"
   ]
  },
  {
   "cell_type": "markdown",
   "id": "fee51e9b",
   "metadata": {},
   "source": [
    "Now some work for you to do. Compare the NMF factorization to the original categories from the Brown Corpus."
   ]
  },
  {
   "cell_type": "code",
   "execution_count": 86,
   "id": "34c153c0",
   "metadata": {},
   "outputs": [
    {
     "name": "stdout",
     "output_type": "stream",
     "text": [
      "adventure\n",
      "('said', 287) ('would', 191) ('back', 165) ('man', 165) ('one', 162) \n",
      "\n",
      "belles_lettres\n",
      "('one', 475) ('would', 392) ('time', 225) ('man', 219) ('could', 213) \n",
      "\n",
      "editorial\n",
      "('would', 180) ('one', 150) ('Mr', 110) ('new', 80) ('American', 77) \n",
      "\n",
      "fiction\n",
      "('would', 287) ('said', 192) ('one', 168) ('could', 166) ('like', 147) \n",
      "\n",
      "government\n",
      "('year', 183) ('States', 181) ('United', 155) ('may', 153) ('would', 120) \n",
      "\n",
      "hobbies\n",
      "('one', 258) ('may', 131) ('time', 127) ('two', 116) ('first', 114) \n",
      "\n",
      "humor\n",
      "('said', 87) ('one', 64) ('would', 56) ('time', 43) ('even', 38) \n",
      "\n",
      "learned\n",
      "('Af', 908) ('one', 454) ('may', 324) ('would', 319) ('1', 245) \n",
      "\n",
      "lore\n",
      "('one', 290) ('would', 186) ('time', 174) ('may', 165) ('first', 145) \n",
      "\n",
      "mystery\n",
      "('said', 202) ('would', 186) ('one', 166) ('back', 156) ('could', 141) \n",
      "\n",
      "news\n",
      "('said', 402) ('Mrs', 254) ('would', 244) ('one', 184) ('Mr', 170) \n",
      "\n",
      "religion\n",
      "('God', 131) ('world', 90) ('one', 87) ('may', 78) ('new', 77) \n",
      "\n",
      "reviews\n",
      "('one', 106) ('Mr', 105) ('music', 68) ('first', 65) ('man', 49) \n",
      "\n",
      "romance\n",
      "('said', 330) ('would', 244) ('could', 193) ('like', 185) ('one', 166) \n",
      "\n",
      "science_fiction\n",
      "('would', 79) ('could', 49) ('said', 41) ('one', 36) ('time', 30) \n",
      "\n"
     ]
    }
   ],
   "source": [
    "#find the top words in each brown category\n",
    "for category in brown.categories():\n",
    "    text=brown.words(categories=category)\n",
    "    text = remove_stop(text)\n",
    "    text = [remove_punctuation(i) for i in text]\n",
    "    fdist=FreqDist(text)\n",
    "    modals=fdist.most_common(6)\n",
    "    print(category)\n",
    "    for m in modals:\n",
    "        if m[1] <= 1000:\n",
    "            print(m, end=' ')\n",
    "    print('\\n')"
   ]
  },
  {
   "cell_type": "markdown",
   "id": "f8d4e2bc",
   "metadata": {},
   "source": [
    "Q: How does your five-topic NMF model compare to the original Brown categories? \n",
    "\n",
    "A: <!-- Your answer here --> There is some overlap between the five-topic model and the original Brown categories as far as most common words are concerned."
   ]
  },
  {
   "cell_type": "markdown",
   "id": "82e37cb5",
   "metadata": {},
   "source": [
    "## Fitting an LSA Model\n",
    "\n",
    "In this section, follow the example from the repository and fit an LSA model (called a \"TruncatedSVD\" in `sklearn`). Again fit a five-topic model and compare it to the actual categories in the Brown corpus. Use the TF-IDF vectors for your fit, as above. "
   ]
  },
  {
   "cell_type": "code",
   "execution_count": 87,
   "id": "00b53d3d",
   "metadata": {},
   "outputs": [],
   "source": [
    "# Your code here\n",
    "from sklearn.decomposition import TruncatedSVD\n",
    "\n",
    "svd_para_model = TruncatedSVD(n_components = 10, random_state=42)\n",
    "W_svd_para_matrix = svd_para_model.fit_transform(tfidf_text_vectors)\n",
    "H_svd_para_matrix = svd_para_model.components_"
   ]
  },
  {
   "cell_type": "code",
   "execution_count": 88,
   "id": "1c60d178",
   "metadata": {},
   "outputs": [
    {
     "name": "stdout",
     "output_type": "stream",
     "text": [
      "\n",
      "Topic 00\n",
      "  said (0.44)\n",
      "  mr (0.25)\n",
      "  mrs (0.22)\n",
      "  state (0.20)\n",
      "  man (0.17)\n",
      "\n",
      "Topic 01\n",
      "  said (3.89)\n",
      "  ll (2.73)\n",
      "  didn (2.63)\n",
      "  thought (2.20)\n",
      "  got (1.97)\n",
      "\n",
      "Topic 02\n",
      "  mrs (3.14)\n",
      "  mr (1.73)\n",
      "  said (1.06)\n",
      "  kennedy (0.82)\n",
      "  laos (0.78)\n",
      "\n",
      "Topic 03\n",
      "  mrs (29.99)\n",
      "  club (6.67)\n",
      "  game (6.21)\n",
      "  jr (5.71)\n",
      "  dallas (5.47)\n",
      "\n",
      "Topic 04\n",
      "  game (4.46)\n",
      "  league (3.20)\n",
      "  baseball (3.18)\n",
      "  ball (3.02)\n",
      "  team (2.91)\n",
      "\n",
      "Topic 05\n",
      "  mrs (4.51)\n",
      "  music (1.15)\n",
      "  af (1.09)\n",
      "  khrushchev (1.04)\n",
      "  miss (0.98)\n",
      "\n",
      "Topic 06\n",
      "  faculty (184.24)\n",
      "  college (178.80)\n",
      "  student (139.55)\n",
      "  shall (123.17)\n",
      "  university (114.98)\n",
      "\n",
      "Topic 07\n",
      "  mrs (10.11)\n",
      "  sales (5.92)\n",
      "  marketing (4.33)\n",
      "  billion (4.33)\n",
      "  business (4.01)\n",
      "\n",
      "Topic 08\n",
      "  state (26.37)\n",
      "  states (18.26)\n",
      "  united (16.73)\n",
      "  shall (15.81)\n",
      "  mrs (15.67)\n",
      "\n",
      "Topic 09\n",
      "  shall (19.61)\n",
      "  united (17.02)\n",
      "  board (14.47)\n",
      "  states (11.02)\n",
      "  court (10.58)\n"
     ]
    }
   ],
   "source": [
    "display_topics(svd_para_model, tfidf_text_vectorizer.get_feature_names())"
   ]
  },
  {
   "cell_type": "markdown",
   "id": "4d94d56f",
   "metadata": {},
   "source": [
    "Q: How does your five-topic LSA model compare to the original Brown categories? \n",
    "\n",
    "A: <!-- Your answer here --> There is again overlap between the top words of the LSA model and the top words of the brown categories."
   ]
  },
  {
   "cell_type": "markdown",
   "id": "ea8b280a",
   "metadata": {},
   "source": [
    "Q: What is your interpretation of the display topics output? \n",
    "\n",
    "A: It shows the top words of each topic and the percentage the word was used"
   ]
  },
  {
   "cell_type": "markdown",
   "id": "b4ab4d29",
   "metadata": {},
   "source": [
    "## Fitting an LDA Model\n",
    "\n",
    "Finally, fit a five-topic LDA model using the count vectors (`count_text_vectors` from above). Display the results using `pyLDAvis.display` and describe what you learn from that visualization. "
   ]
  },
  {
   "cell_type": "code",
   "execution_count": 92,
   "id": "802cb8ff",
   "metadata": {},
   "outputs": [],
   "source": [
    "# Fit your LDA model here\n",
    "from sklearn.decomposition import LatentDirichletAllocation\n",
    "\n",
    "lda_text_model = LatentDirichletAllocation(n_components = 10, random_state=42)\n",
    "W_lda_para_matrix = lda_text_model.fit_transform(tfidf_text_vectors)\n",
    "H_lda_para_matrix = lda_text_model.components_"
   ]
  },
  {
   "cell_type": "code",
   "execution_count": 93,
   "id": "ab18adf5",
   "metadata": {},
   "outputs": [
    {
     "name": "stdout",
     "output_type": "stream",
     "text": [
      "\n",
      "Topic 00\n",
      "  didn (0.33)\n",
      "  eyes (0.27)\n",
      "  looked (0.25)\n",
      "  wasn (0.22)\n",
      "  couldn (0.22)\n",
      "\n",
      "Topic 01\n",
      "  baseball (0.22)\n",
      "  dallas (0.22)\n",
      "  runs (0.17)\n",
      "  roy (0.14)\n",
      "  vernon (0.14)\n",
      "\n",
      "Topic 02\n",
      "  seventeen (0.02)\n",
      "  spirits (0.02)\n",
      "  simpson (0.02)\n",
      "  insert (0.02)\n",
      "  injured (0.02)\n",
      "\n",
      "Topic 03\n",
      "  seventeen (0.02)\n",
      "  spirits (0.02)\n",
      "  simpson (0.02)\n",
      "  insert (0.02)\n",
      "  injured (0.02)\n",
      "\n",
      "Topic 04\n",
      "  susan (0.13)\n",
      "  jim (0.09)\n",
      "  charlie (0.09)\n",
      "  pete (0.09)\n",
      "  widow (0.04)\n",
      "\n",
      "Topic 05\n",
      "  said (0.33)\n",
      "  mr (0.20)\n",
      "  state (0.18)\n",
      "  mrs (0.17)\n",
      "  president (0.14)\n",
      "\n",
      "Topic 06\n",
      "  dave (0.08)\n",
      "  anne (0.02)\n",
      "  pete (0.02)\n",
      "  plays (0.02)\n",
      "  wildlife (0.02)\n",
      "\n",
      "Topic 07\n",
      "  game (0.23)\n",
      "  ball (0.22)\n",
      "  player (0.21)\n",
      "  pool (0.19)\n",
      "  shooting (0.18)\n",
      "\n",
      "Topic 08\n",
      "  seventeen (0.02)\n",
      "  spirits (0.02)\n",
      "  simpson (0.02)\n",
      "  insert (0.02)\n",
      "  injured (0.02)\n",
      "\n",
      "Topic 09\n",
      "  alexander (0.02)\n",
      "  seventeen (0.02)\n",
      "  spirits (0.02)\n",
      "  simpson (0.02)\n",
      "  insert (0.02)\n"
     ]
    }
   ],
   "source": [
    "# Call `display_topics` on your fitted model here\n",
    "display_topics(lda_text_model, tfidf_text_vectorizer.get_feature_names())"
   ]
  },
  {
   "cell_type": "markdown",
   "id": "f2c67876",
   "metadata": {},
   "source": [
    "Q: What inference do you draw from the displayed topics for your LDA model? \n",
    "\n",
    "A: <!-- Your answer here --> It seems to line up with the same topics from brown categories.\n",
    "\n",
    "\n",
    "Q: How does your five-topic LDA model compare to the original Brown categories? \n",
    "\n",
    "A: <!-- Your answer here --> Again, we can see some overlap between the top words of each topic/cateogry."
   ]
  },
  {
   "cell_type": "code",
   "execution_count": 94,
   "id": "6aae75ca",
   "metadata": {},
   "outputs": [
    {
     "name": "stderr",
     "output_type": "stream",
     "text": [
      "C:\\Users\\lenny\\anaconda3\\envs\\my-env-for-ads509\\lib\\site-packages\\pyLDAvis\\_prepare.py:246: FutureWarning: In a future version of pandas all arguments of DataFrame.drop except for the argument 'labels' will be keyword-only.\n",
      "  default_term_info = default_term_info.sort_values(\n"
     ]
    }
   ],
   "source": [
    "lda_display = pyLDAvis.sklearn.prepare(lda_text_model, count_text_vectors, count_text_vectorizer, sort_topics=False)"
   ]
  },
  {
   "cell_type": "code",
   "execution_count": 95,
   "id": "2a89fc15",
   "metadata": {},
   "outputs": [
    {
     "data": {
      "text/html": [
       "\n",
       "<link rel=\"stylesheet\" type=\"text/css\" href=\"https://cdn.jsdelivr.net/gh/bmabey/pyLDAvis@3.3.1/pyLDAvis/js/ldavis.v1.0.0.css\">\n",
       "\n",
       "\n",
       "<div id=\"ldavis_el4038414567979234728245288388\"></div>\n",
       "<script type=\"text/javascript\">\n",
       "\n",
       "var ldavis_el4038414567979234728245288388_data = {\"mdsDat\": {\"x\": [0.05117292790656711, 0.005994631603702177, 7.060900232595658e-05, 7.060900229501395e-05, 0.0002968757807771935, -0.06193684310431737, 0.00012208824246489613, 0.004067893165031978, 7.060900229501716e-05, 7.059939885804472e-05], \"y\": [0.00597489185691842, -0.013996993088244798, 0.0020786963357911814, 0.0020786963358393053, 0.001353182071996188, 0.003160627058062741, 0.001906609463445327, -0.006713109364784286, 0.0020786963358393027, 0.0020787029951366627], \"topics\": [1, 2, 3, 4, 5, 6, 7, 8, 9, 10], \"cluster\": [1, 1, 1, 1, 1, 1, 1, 1, 1, 1], \"Freq\": [4.228550677183741, 0.6646117883931479, 0.013297958364872584, 0.013297958364872584, 0.04429337375132233, 94.46093369671226, 0.022033000882437356, 0.5263856296176146, 0.013297958364872584, 0.013297958364873847]}, \"tinfo\": {\"Term\": [\"said\", \"mr\", \"state\", \"mrs\", \"president\", \"man\", \"united\", \"000\", \"states\", \"american\", \"old\", \"good\", \"people\", \"government\", \"house\", \"day\", \"city\", \"world\", \"little\", \"way\", \"home\", \"don\", \"program\", \"development\", \"tax\", \"board\", \"know\", \"work\", \"right\", \"school\", \"couldn\", \"baby\", \"wasn\", \"hair\", \"walked\", \"bed\", \"hadn\", \"panels\", \"smiled\", \"shelter\", \"lumber\", \"clothes\", \"sat\", \"pope\", \"inches\", \"cool\", \"yellow\", \"nice\", \"walls\", \"fingers\", \"hell\", \"entrance\", \"guy\", \"waited\", \"frames\", \"oh\", \"wooden\", \"stared\", \"burns\", \"liked\", \"bedroom\", \"eyes\", \"looked\", \"woman\", \"snow\", \"didn\", \"yes\", \"slowly\", \"straight\", \"breakfast\", \"painting\", \"stood\", \"room\", \"knew\", \"wouldn\", \"dark\", \"maybe\", \"thought\", \"clay\", \"morning\", \"inside\", \"bridge\", \"ll\", \"baseball\", \"robinson\", \"vernon\", \"palace\", \"pitcher\", \"dancers\", \"santa\", \"ap\", \"homer\", \"pitching\", \"roy\", \"ruth\", \"hits\", \"lee\", \"dinner\", \"runs\", \"austin\", \"johnny\", \"bat\", \"beat\", \"bob\", \"batting\", \"yankee\", \"pennant\", \"stevens\", \"christmas\", \"roger\", \"oriental\", \"maid\", \"dave\", \"al\", \"mays\", \"dallas\", \"francisco\", \"oct\", \"jim\", \"churches\", \"cream\", \"giants\", \"leagues\", \"champions\", \"coaches\", \"milwaukee\", \"chef\", \"terry\", \"helen\", \"scoring\", \"ann\", \"yankee\", \"roger\", \"pennant\", \"fans\", \"johnny\", \"stevens\", \"dave\", \"ruth\", \"lock\", \"oriental\", \"pitching\", \"homer\", \"hood\", \"pitcher\", \"spice\", \"pinch\", \"ap\", \"bats\", \"bat\", \"dancers\", \"maid\", \"seventeen\", \"spirits\", \"simpson\", \"insert\", \"injured\", \"plays\", \"walker\", \"austin\", \"gene\", \"vernon\", \"sad\", \"bernard\", \"illustration\", \"lee\", \"mound\", \"patterned\", \"shots\", \"willie\", \"amateur\", \"row\", \"clock\", \"patricia\", \"lunch\", \"hitting\", \"yards\", \"paintings\", \"picked\", \"drill\", \"flat\", \"charlie\", \"leagues\", \"champions\", \"coaches\", \"milwaukee\", \"chef\", \"terry\", \"helen\", \"scoring\", \"ann\", \"yankee\", \"roger\", \"pennant\", \"fans\", \"johnny\", \"stevens\", \"dave\", \"ruth\", \"lock\", \"oriental\", \"pitching\", \"homer\", \"hood\", \"pitcher\", \"spice\", \"pinch\", \"ap\", \"bats\", \"bat\", \"dancers\", \"maid\", \"seventeen\", \"spirits\", \"simpson\", \"insert\", \"injured\", \"plays\", \"walker\", \"austin\", \"gene\", \"vernon\", \"sad\", \"bernard\", \"illustration\", \"lee\", \"mound\", \"patterned\", \"shots\", \"willie\", \"amateur\", \"row\", \"clock\", \"patricia\", \"lunch\", \"hitting\", \"yards\", \"paintings\", \"picked\", \"drill\", \"flat\", \"charlie\", \"charlie\", \"jim\", \"susan\", \"pete\", \"widow\", \"leagues\", \"champions\", \"coaches\", \"milwaukee\", \"chef\", \"terry\", \"helen\", \"scoring\", \"ann\", \"yankee\", \"roger\", \"pennant\", \"fans\", \"johnny\", \"stevens\", \"dave\", \"ruth\", \"lock\", \"oriental\", \"pitching\", \"homer\", \"hood\", \"pitcher\", \"spice\", \"pinch\", \"slide\", \"guest\", \"defensive\", \"settling\", \"troubled\", \"upstairs\", \"lifetime\", \"purple\", \"miniature\", \"fixing\", \"abrupt\", \"dick\", \"occupied\", \"silently\", \"neatly\", \"suits\", \"smart\", \"unhappily\", \"suspected\", \"bathing\", \"bet\", \"row\", \"lowered\", \"singing\", \"anger\", \"said\", \"mr\", \"state\", \"mrs\", \"president\", \"man\", \"united\", \"000\", \"states\", \"american\", \"old\", \"good\", \"people\", \"government\", \"house\", \"day\", \"city\", \"world\", \"little\", \"way\", \"home\", \"don\", \"program\", \"development\", \"tax\", \"board\", \"know\", \"work\", \"right\", \"school\", \"dave\", \"leagues\", \"champions\", \"coaches\", \"milwaukee\", \"chef\", \"terry\", \"helen\", \"scoring\", \"ann\", \"yankee\", \"roger\", \"pennant\", \"fans\", \"johnny\", \"stevens\", \"ruth\", \"lock\", \"oriental\", \"pitching\", \"homer\", \"hood\", \"pitcher\", \"spice\", \"pinch\", \"ap\", \"bats\", \"bat\", \"dancers\", \"maid\", \"anne\", \"pete\", \"plays\", \"wildlife\", \"locked\", \"forest\", \"tom\", \"catholic\", \"forests\", \"photograph\", \"beat\", \"blind\", \"shoulder\", \"fold\", \"missed\", \"lined\", \"basketball\", \"salesman\", \"fist\", \"scholastic\", \"tonight\", \"160\", \"grades\", \"sided\", \"ugliness\", \"begged\", \"hurry\", \"sprinkling\", \"chemistry\", \"player\", \"drill\", \"shooting\", \"hole\", \"gallery\", \"yankees\", \"yards\", \"stadium\", \"willie\", \"games\", \"holes\", \"pittsburgh\", \"lever\", \"knee\", \"masters\", \"champions\", \"coach\", \"leg\", \"ball\", \"slide\", \"chuck\", \"leagues\", \"arnold\", \"screw\", \"mound\", \"lock\", \"charlie\", \"scoring\", \"amateur\", \"hitting\", \"golf\", \"pool\", \"game\", \"team\", \"brown\", \"shot\", \"bars\", \"football\", \"vacation\", \"pieces\", \"leagues\", \"champions\", \"coaches\", \"milwaukee\", \"chef\", \"terry\", \"helen\", \"scoring\", \"ann\", \"yankee\", \"roger\", \"pennant\", \"fans\", \"johnny\", \"stevens\", \"dave\", \"ruth\", \"lock\", \"oriental\", \"pitching\", \"homer\", \"hood\", \"pitcher\", \"spice\", \"pinch\", \"ap\", \"bats\", \"bat\", \"dancers\", \"maid\", \"seventeen\", \"spirits\", \"simpson\", \"insert\", \"injured\", \"plays\", \"walker\", \"austin\", \"gene\", \"vernon\", \"sad\", \"bernard\", \"illustration\", \"lee\", \"mound\", \"patterned\", \"shots\", \"willie\", \"amateur\", \"row\", \"clock\", \"patricia\", \"lunch\", \"hitting\", \"yards\", \"paintings\", \"picked\", \"drill\", \"flat\", \"charlie\", \"leagues\", \"champions\", \"coaches\", \"milwaukee\", \"chef\", \"terry\", \"helen\", \"scoring\", \"ann\", \"yankee\", \"roger\", \"pennant\", \"fans\", \"johnny\", \"stevens\", \"dave\", \"ruth\", \"lock\", \"oriental\", \"pitching\", \"homer\", \"hood\", \"pitcher\", \"spice\", \"pinch\", \"ap\", \"bats\", \"bat\", \"dancers\", \"maid\", \"alexander\", \"seventeen\", \"spirits\", \"simpson\", \"insert\", \"injured\", \"plays\", \"walker\", \"austin\", \"gene\", \"vernon\", \"sad\", \"bernard\", \"illustration\", \"lee\", \"mound\", \"patterned\", \"shots\", \"willie\", \"amateur\", \"row\", \"clock\", \"patricia\", \"lunch\", \"hitting\", \"yards\", \"paintings\", \"picked\", \"drill\", \"flat\"], \"Freq\": [388.0, 235.0, 217.0, 205.0, 162.0, 162.0, 156.0, 151.0, 150.0, 142.0, 140.0, 140.0, 136.0, 136.0, 135.0, 131.0, 130.0, 129.0, 128.0, 128.0, 125.0, 124.0, 123.0, 118.0, 118.0, 117.0, 115.0, 114.0, 112.0, 112.0, 11.37816279782536, 8.672065495504025, 11.810936914753078, 8.43754089955519, 9.474221954811068, 8.083852595736834, 7.866977907189268, 7.807648553778218, 6.853060627965768, 9.118177089218033, 6.693175429594114, 7.4783202931713335, 8.801628697776833, 6.556922501730122, 6.109496470505471, 7.087805153423786, 5.966237405776765, 5.9564360777510466, 6.488508015617307, 5.162014318419549, 5.134279690795388, 5.038662207184391, 5.645542554453353, 5.165662421444891, 5.511842256041325, 7.688296418722901, 4.69465958338149, 4.59775920227242, 4.610308507035803, 4.512821010419144, 5.667224282593214, 14.111737259161899, 13.370409655185831, 10.27273445201445, 5.937627327163019, 17.368291787880935, 8.089237648990428, 7.105358628496673, 7.067037237971276, 6.43724468600042, 6.192170170415581, 8.33933723434302, 10.758946302757275, 9.806443332601509, 7.649982693919046, 7.210497845887063, 6.86262453298951, 9.020879013664702, 7.446497856266803, 7.3046064557371535, 6.942590990153585, 7.02685387036375, 7.241503521625826, 1.852629297142257, 1.1038237504308404, 1.144118666053742, 0.9574758614631721, 0.854579291155045, 0.8641469619107197, 0.9843303544635129, 0.8219270402579412, 0.8130222672346209, 0.7961156082390007, 1.1735376235501656, 0.7719434441040194, 0.8706479554808647, 0.880107271027898, 0.9591605701771221, 1.3871597858187084, 0.7602115060350424, 0.6408237328801304, 0.6599638812680712, 0.7677279078846002, 0.9491799599467513, 0.7080774807841657, 0.5850574367344137, 0.585143613956856, 0.5872062893761192, 0.6243799916293141, 0.5644353230453357, 0.5805639982495246, 0.5724051357660307, 0.5356431988219303, 0.6755043914230262, 0.7560613106825914, 1.8392312407445002, 0.915618405505993, 0.7427051865109695, 0.7557745589864083, 0.8224218368697916, 0.6572971948762978, 0.6653607935461001, 0.0033550905373151076, 0.0033550901860346653, 0.003355090576627232, 0.0033550903652330624, 0.003355090581219333, 0.003355091048723411, 0.003355090568401417, 0.0033550923531133914, 0.00335509072456935, 0.0033550901957242582, 0.0033550903347227307, 0.0033550902672797056, 0.003355091248264344, 0.0033550901977272784, 0.003355090837563332, 0.003355091676807548, 0.003355090154789762, 0.0033550914796876214, 0.0033550907795836075, 0.0033550901717968656, 0.0033550901783008943, 0.003355092177128606, 0.003355090190314041, 0.0033550922389616864, 0.0033550907839287616, 0.003355090517570365, 0.0033550906960644264, 0.003355091635596691, 0.003355091134895738, 0.0033550912788319395, 0.0033551037412227077, 0.00335510324963864, 0.0033551019222453965, 0.003355101494877307, 0.0033551009277623402, 0.003355100844242388, 0.0033550994956380977, 0.00335509931261741, 0.0033550981299678984, 0.0033550978308661858, 0.003355097760641996, 0.003355097596888129, 0.003355097250114672, 0.003355097212458849, 0.003355097174630331, 0.003355097129371115, 0.003355096925985616, 0.0033550968922583693, 0.003355096799436486, 0.003355095520641686, 0.003355095371403258, 0.0033550953690880013, 0.0033550952281216433, 0.0033550952262445264, 0.003355094837902752, 0.0033550947793108193, 0.003355094680912367, 0.0033550946737183215, 0.003355094561202291, 0.003355094428604773, 0.0033550905373172127, 0.0033550901860366616, 0.0033550905766293495, 0.0033550903652351137, 0.0033550905812214484, 0.0033550910487256673, 0.003355090568403532, 0.0033550923531161067, 0.0033550907245715146, 0.003355090195726257, 0.003355090334724773, 0.003355090267281727, 0.0033550912482666756, 0.003355090197729278, 0.003355090837565533, 0.003355091676810009, 0.0033550901547917487, 0.0033550914796900305, 0.003355090779585796, 0.003355090171798857, 0.0033550901783028888, 0.003355092177131217, 0.0033550901903160388, 0.0033550922389642994, 0.0033550907839309404, 0.003355090517572464, 0.0033550906960665835, 0.0033550916355991577, 0.003355091134898033, 0.0033550912788342852, 0.0033551037412290043, 0.0033551032496447445, 0.00335510192225118, 0.003355101494881429, 0.0033551009277678653, 0.0033551008442483598, 0.0033550994956433444, 0.0033550993126222296, 0.003355098129972387, 0.003355097830870534, 0.003355097760646356, 0.0033550975968924808, 0.0033550972501194334, 0.0033550972124630216, 0.00335509717463471, 0.0033550971293753746, 0.003355096925990353, 0.0033550968922624286, 0.0033550967994405863, 0.003355095520645457, 0.0033550953714070473, 0.0033550953690918007, 0.0033550952281252416, 0.0033550952262482096, 0.0033550948379063588, 0.003355094779314475, 0.0033550946809158453, 0.003355094673721776, 0.00335509456120589, 0.003355094428608271, 0.04869099903152874, 0.052126799701761116, 0.07181925009547196, 0.047556558481897715, 0.022118341591811953, 0.011137448299866995, 0.011137447137873367, 0.011137448431095797, 0.01113744773385998, 0.011137448445254475, 0.011137449991877758, 0.011137448404968551, 0.011137454307074537, 0.011137448919646277, 0.011137447171126517, 0.011137447629400419, 0.011137447406275253, 0.011137450650377117, 0.011137447175976175, 0.01113744929207379, 0.011137452121761385, 0.01113744703411313, 0.011137451415739444, 0.011137449100384377, 0.011137447090480257, 0.011137447112039501, 0.011137453727561227, 0.011137447151808406, 0.011137453927326457, 0.011137449115040485, 0.011150465529893999, 0.011155366987803268, 0.011149006077518992, 0.011145401706030579, 0.01114503176065418, 0.011144787325710004, 0.011144539388537635, 0.01114287894205339, 0.011141837866273452, 0.011141385829204797, 0.011141106924267887, 0.011140832852007123, 0.011140829707667506, 0.011140464726052261, 0.011140238109682118, 0.011140145524888456, 0.01113993933412435, 0.011139931893338152, 0.011139785537933778, 0.01113966665242316, 0.01113953467649861, 0.011139390500841204, 0.011139328331970687, 0.011139303190328877, 0.011139302236150164, 387.68597259486734, 234.05475661941114, 216.37907072647798, 204.24639669105318, 161.24136179495355, 160.86790559028657, 155.35078098780554, 150.50455771065162, 149.14490461332892, 141.69262808829856, 139.68627060379694, 139.48110198076714, 135.33919335772927, 135.25258909723988, 134.09084488267092, 130.2301893959993, 129.25865719652697, 128.7573119546887, 127.74934842463249, 127.11250797095805, 124.61791383688858, 122.93959890294902, 121.8647371430003, 117.79361046956261, 117.59334702967028, 116.2549909570949, 114.4893435898253, 113.27071450317345, 111.56671091350152, 111.4668790238928, 0.021706362415486895, 0.005555512492997153, 0.005555511913842221, 0.005555512558040665, 0.0055555122092500325, 0.0055555125653509, 0.005555513336361415, 0.005555512544280042, 0.0055555154865542635, 0.00555551280164416, 0.005555511929786075, 0.0055555121589347615, 0.005555512047752636, 0.00555551366499629, 0.005555511933148394, 0.005555512987962336, 0.0055555118622922705, 0.005555514046520633, 0.005555512892358949, 0.005555511890363978, 0.005555511901062318, 0.005555515196340601, 0.005555511920855411, 0.005555515299212097, 0.005555512899534734, 0.005555512460371595, 0.005555512754658457, 0.005555514303557858, 0.005555513478108948, 0.005555513715398792, 0.00630146303106025, 0.005618345652009968, 0.005566849665210922, 0.005559491972190385, 0.005559353757065329, 0.005558796910735908, 0.005557163609213391, 0.0055570721299810725, 0.005556319200065095, 0.005555868809277591, 0.005555788664806738, 0.005555755983304271, 0.005555754166414539, 0.005555734701161656, 0.005555719647547087, 0.00555571591368792, 0.005555691344532633, 0.005555676666370939, 0.0055556760876353355, 0.0055556727193151224, 0.005555669133039215, 0.005555661714991219, 0.005555651311712006, 0.0055556416941236674, 0.005555634816984599, 0.005555625398710237, 0.00555562315813456, 0.005555621615115449, 0.005555620458718493, 1.3821841353175297, 1.0812172237823037, 1.1689035470323317, 0.9377236356180451, 0.8809157532288492, 0.980888872447622, 0.8693817391277071, 0.5782121312262157, 0.5999463492116792, 0.8920258866685288, 0.558680477485364, 0.6935477439923435, 0.5731680657478141, 0.5927853415467453, 0.46103402066456123, 0.39557546147237943, 0.7339770567763285, 0.6369006266645932, 1.440511277976629, 0.4077366824034458, 0.4241267550280803, 0.34054649154653777, 0.5824117601767516, 0.47190048284234704, 0.38382371482041305, 0.3077155234385969, 0.3760955628043348, 0.27375621958471047, 0.3714693295480231, 0.3277740205963714, 0.6580062400302192, 1.2282267315903186, 1.4786457165247802, 0.7943874320535083, 0.6873519937734165, 0.5579772506782348, 0.499593246882032, 0.5046157478864662, 0.541323818039678, 0.4360789605496526, 0.0033550905373172127, 0.0033550901860366616, 0.0033550905766293495, 0.0033550903652351137, 0.0033550905812214484, 0.0033550910487256673, 0.003355090568403532, 0.0033550923531161067, 0.0033550907245715146, 0.003355090195726257, 0.003355090334724773, 0.003355090267281727, 0.0033550912482666756, 0.003355090197729278, 0.003355090837565533, 0.003355091676810009, 0.0033550901547917487, 0.0033550914796900305, 0.003355090779585796, 0.003355090171798857, 0.0033550901783028888, 0.003355092177131217, 0.0033550901903160388, 0.0033550922389642994, 0.0033550907839309404, 0.003355090517572464, 0.0033550906960665835, 0.0033550916355991577, 0.003355091134898033, 0.0033550912788342852, 0.0033551037412290043, 0.0033551032496447445, 0.00335510192225118, 0.003355101494881429, 0.0033551009277678653, 0.0033551008442483598, 0.0033550994956433444, 0.0033550993126222296, 0.003355098129972387, 0.003355097830870534, 0.003355097760646356, 0.0033550975968924808, 0.0033550972501194334, 0.0033550972124630216, 0.00335509717463471, 0.0033550971293753746, 0.003355096925990353, 0.0033550968922624286, 0.0033550967994405863, 0.003355095520645457, 0.0033550953714070473, 0.0033550953690918007, 0.0033550952281252416, 0.0033550952262482096, 0.0033550948379063588, 0.003355094779314475, 0.0033550946809158453, 0.003355094673721776, 0.00335509456120589, 0.003355094428608271, 0.003355090173185401, 0.003355089822270669, 0.003355090212474782, 0.0033550900012825013, 0.0033550902170559407, 0.0033550906840612385, 0.003355090204248557, 0.0033550919870932966, 0.0033550903602446633, 0.0033550898319501736, 0.0033550899708090364, 0.0033550899034311236, 0.003355090883481313, 0.003355089833951109, 0.003355090473121037, 0.0033550913114915207, 0.0033550897910582956, 0.003355091114576832, 0.003355090415213468, 0.003355089808047692, 0.003355089814544951, 0.003355091811599149, 0.003355089826545591, 0.0033550918730754597, 0.003355090419542308, 0.00335509015347799, 0.0033550903317694507, 0.0033550912703235788, 0.003355090770143901, 0.003355090913930245, 0.0033568874879699893, 0.00335510336334599, 0.0033551028722732606, 0.003355101546262335, 0.0033551011193381323, 0.0033551005529486337, 0.0033551004693823743, 0.003355099122181947, 0.0033550989393532084, 0.0033550977579330996, 0.0033550974591428323, 0.003355097388991562, 0.0033550972254083626, 0.0033550968789966802, 0.003355096841390892, 0.0033550968035907206, 0.0033550967583782744, 0.003355096555204999, 0.0033550965215124033, 0.0033550964296803626, 0.0033550951516128453, 0.0033550950022429994, 0.003355094999927946, 0.0033550948591083507, 0.0033550948572330674, 0.0033550944692958356, 0.0033550944107646266, 0.0033550943124711014, 0.0033550943052822395, 0.003355094192902371], \"Total\": [388.0, 235.0, 217.0, 205.0, 162.0, 162.0, 156.0, 151.0, 150.0, 142.0, 140.0, 140.0, 136.0, 136.0, 135.0, 131.0, 130.0, 129.0, 128.0, 128.0, 125.0, 124.0, 123.0, 118.0, 118.0, 117.0, 115.0, 114.0, 112.0, 112.0, 17.35728357924732, 13.346913302821523, 18.21528123128732, 13.105112251076058, 15.466285097527262, 13.209439843194625, 12.873827148498652, 12.975381527143933, 11.526842983812125, 15.411974236820909, 11.383579032235925, 12.855719649387286, 15.220535746698847, 11.521590104182547, 10.955256882657302, 12.805139865277463, 10.828754649259283, 10.958657357109487, 12.102152616746615, 9.830651825391334, 9.802882607512712, 9.717847411800191, 10.909988702559668, 10.111039577335411, 10.818527175064748, 15.164757798967518, 9.37290894958704, 9.26654722502995, 9.325519567788039, 9.186621869472773, 11.572980470140543, 29.434001603351447, 28.215125790914175, 21.453340466465267, 12.185995433762242, 42.891038800232074, 17.517291851547395, 15.340280496798524, 15.284601812923643, 13.613007628844633, 13.02974272621401, 22.08619293924207, 39.75791548292567, 44.09504251188805, 22.255476275254278, 19.721881799223716, 17.296858877365462, 73.85767934099071, 28.9524234184489, 30.066174859751023, 20.263744392686426, 26.870035707483037, 107.08010529378898, 7.212746601086127, 6.464301434632905, 7.4915270561577705, 6.5841187909788434, 6.2044093997054, 6.345442182121893, 7.3268699387448075, 6.230090503808321, 6.165390456073674, 6.146135579578784, 9.19393169274206, 6.121104238898963, 7.167790451895887, 7.256601784538125, 8.348751327292707, 12.828254854081335, 7.086120663789656, 5.995890124725016, 6.303259027788085, 7.3336032051298465, 9.51420037188716, 7.13401930114029, 5.936550614851682, 5.949130844222871, 6.0271295044364095, 6.5505252278954496, 5.937701455621726, 6.144735208739282, 6.442452872637519, 6.064989883439594, 7.670760676282485, 8.71295438170258, 22.99824043441075, 12.141374273619451, 9.661997597866097, 10.528039805283669, 13.735417598382337, 7.922075409896807, 9.636487946758013, 5.753972004914567, 5.777117405317485, 5.795600705327979, 5.809768643090264, 5.828203414850642, 5.851736111881382, 5.85974670411492, 5.904835274557207, 5.915134584684705, 5.936550614851682, 5.937701455621726, 5.949130844222871, 5.9870257610576365, 5.995890124725016, 6.0271295044364095, 6.064989883439594, 6.121104238898963, 6.141369481772632, 6.144735208739282, 6.146135579578784, 6.165390456073674, 6.178791249298633, 6.2044093997054, 6.215378849805019, 6.224246005250199, 6.230090503808321, 6.278042536987381, 6.303259027788085, 6.345442182121893, 6.442452872637519, 8.013560288635084, 10.542897361204549, 8.272334244585231, 8.756091197084949, 8.241784723613153, 10.26705599545202, 11.895918515480078, 7.086120663789656, 6.981436339682609, 7.4915270561577705, 9.400526124997482, 7.094532920567548, 11.277958565609476, 7.256601784538125, 7.447296477508505, 7.23242778781251, 15.06198966908084, 6.776077067445095, 8.245986551286025, 10.409949717956687, 10.871647651073618, 9.589267147461513, 8.574878462108192, 7.315118435926201, 9.16633447770622, 9.904229846233696, 13.405843087707273, 7.244341340350262, 13.055591107776307, 7.566157227453869, 5.753972004914567, 5.777117405317485, 5.795600705327979, 5.809768643090264, 5.828203414850642, 5.851736111881382, 5.85974670411492, 5.904835274557207, 5.915134584684705, 5.936550614851682, 5.937701455621726, 5.949130844222871, 5.9870257610576365, 5.995890124725016, 6.0271295044364095, 6.064989883439594, 6.121104238898963, 6.141369481772632, 6.144735208739282, 6.146135579578784, 6.165390456073674, 6.178791249298633, 6.2044093997054, 6.215378849805019, 6.224246005250199, 6.230090503808321, 6.278042536987381, 6.303259027788085, 6.345442182121893, 6.442452872637519, 8.013560288635084, 10.542897361204549, 8.272334244585231, 8.756091197084949, 8.241784723613153, 10.26705599545202, 11.895918515480078, 7.086120663789656, 6.981436339682609, 7.4915270561577705, 9.400526124997482, 7.094532920567548, 11.277958565609476, 7.256601784538125, 7.447296477508505, 7.23242778781251, 15.06198966908084, 6.776077067445095, 8.245986551286025, 10.409949717956687, 10.871647651073618, 9.589267147461513, 8.574878462108192, 7.315118435926201, 9.16633447770622, 9.904229846233696, 13.405843087707273, 7.244341340350262, 13.055591107776307, 7.566157227453869, 7.566157227453869, 10.528039805283669, 15.781990905346401, 12.75608914720841, 8.867106538568004, 5.753972004914567, 5.777117405317485, 5.795600705327979, 5.809768643090264, 5.828203414850642, 5.851736111881382, 5.85974670411492, 5.904835274557207, 5.915134584684705, 5.936550614851682, 5.937701455621726, 5.949130844222871, 5.9870257610576365, 5.995890124725016, 6.0271295044364095, 6.064989883439594, 6.121104238898963, 6.141369481772632, 6.144735208739282, 6.146135579578784, 6.165390456073674, 6.178791249298633, 6.2044093997054, 6.215378849805019, 6.224246005250199, 6.632954676139306, 22.448284752728835, 10.280006341125825, 11.419650087714931, 13.245392307041314, 11.011973784634455, 12.208499304563496, 8.910494604944162, 8.347881300881046, 11.258379311351437, 11.421449775588027, 18.81649366386904, 11.604089819582137, 13.248390403890879, 12.07454815421409, 11.609497478630052, 12.37169452133923, 12.378347094569204, 16.39542824585983, 9.385734306465583, 13.612589228448225, 10.409949717956687, 13.066214948764307, 13.106916675298766, 9.580712303045017, 388.8310661464045, 235.19974349110578, 217.5240359651579, 205.39142383291522, 162.3863301285378, 162.0130104046137, 156.49574040237266, 151.64952592003132, 150.28986641791835, 142.8376153860148, 140.83139704592853, 140.62617743719827, 136.48422593265602, 136.39755578687627, 135.2358842945529, 131.37524962873673, 130.403660837869, 129.90232318476768, 128.8944796550016, 128.25760297299283, 125.76296242716197, 124.08473840776816, 123.00970159967082, 118.93857106421136, 118.73830425857625, 117.39998796090747, 115.63447028774172, 114.41575284387709, 112.71180921413689, 112.61189141371331, 6.064989883439594, 5.753972004914567, 5.777117405317485, 5.795600705327979, 5.809768643090264, 5.828203414850642, 5.851736111881382, 5.85974670411492, 5.904835274557207, 5.915134584684705, 5.936550614851682, 5.937701455621726, 5.949130844222871, 5.9870257610576365, 5.995890124725016, 6.0271295044364095, 6.121104238898963, 6.141369481772632, 6.144735208739282, 6.146135579578784, 6.165390456073674, 6.178791249298633, 6.2044093997054, 6.215378849805019, 6.224246005250199, 6.230090503808321, 6.278042536987381, 6.303259027788085, 6.345442182121893, 6.442452872637519, 43.53119881932793, 12.75608914720841, 10.26705599545202, 20.21544224069011, 10.507459829715481, 38.35415855450769, 10.935759803334573, 41.95458203914235, 18.63298723247825, 6.916565463065061, 7.3336032051298465, 11.232726104415962, 9.496683878395519, 7.589555789204915, 14.64095746103474, 11.870105140643428, 14.504861610257679, 13.263091764128333, 6.76521071364966, 13.33406558508626, 8.763357073009429, 11.6360291133089, 13.67020818221122, 11.98382646440386, 6.903796798892032, 16.19365195232221, 8.184709612831085, 12.540057453474208, 12.450207520286673, 8.030219998814934, 7.244341340350262, 8.57534217949889, 7.950431096933282, 7.484433400615499, 8.513724618019204, 9.16633447770622, 6.494366905190877, 6.776077067445095, 10.560521640947291, 6.969352103418823, 8.756678152953153, 7.240554587417046, 7.574236688772241, 6.557230592723098, 5.777117405317485, 11.46016919485981, 10.044826936994237, 23.06279118580113, 6.632954676139306, 6.946720789230849, 5.753972004914567, 9.960902095925642, 8.922311187856668, 7.447296477508505, 6.141369481772632, 7.566157227453869, 5.904835274557207, 8.245986551286025, 7.315118435926201, 15.558532852499912, 31.61547099219667, 39.59673154363889, 35.85649353612289, 36.92946191646871, 24.125358541101708, 17.82169474752924, 20.20222895530473, 30.535976114232817, 15.984050959880033, 5.753972004914567, 5.777117405317485, 5.795600705327979, 5.809768643090264, 5.828203414850642, 5.851736111881382, 5.85974670411492, 5.904835274557207, 5.915134584684705, 5.936550614851682, 5.937701455621726, 5.949130844222871, 5.9870257610576365, 5.995890124725016, 6.0271295044364095, 6.064989883439594, 6.121104238898963, 6.141369481772632, 6.144735208739282, 6.146135579578784, 6.165390456073674, 6.178791249298633, 6.2044093997054, 6.215378849805019, 6.224246005250199, 6.230090503808321, 6.278042536987381, 6.303259027788085, 6.345442182121893, 6.442452872637519, 8.013560288635084, 10.542897361204549, 8.272334244585231, 8.756091197084949, 8.241784723613153, 10.26705599545202, 11.895918515480078, 7.086120663789656, 6.981436339682609, 7.4915270561577705, 9.400526124997482, 7.094532920567548, 11.277958565609476, 7.256601784538125, 7.447296477508505, 7.23242778781251, 15.06198966908084, 6.776077067445095, 8.245986551286025, 10.409949717956687, 10.871647651073618, 9.589267147461513, 8.574878462108192, 7.315118435926201, 9.16633447770622, 9.904229846233696, 13.405843087707273, 7.244341340350262, 13.055591107776307, 7.566157227453869, 5.753972004914567, 5.777117405317485, 5.795600705327979, 5.809768643090264, 5.828203414850642, 5.851736111881382, 5.85974670411492, 5.904835274557207, 5.915134584684705, 5.936550614851682, 5.937701455621726, 5.949130844222871, 5.9870257610576365, 5.995890124725016, 6.0271295044364095, 6.064989883439594, 6.121104238898963, 6.141369481772632, 6.144735208739282, 6.146135579578784, 6.165390456073674, 6.178791249298633, 6.2044093997054, 6.215378849805019, 6.224246005250199, 6.230090503808321, 6.278042536987381, 6.303259027788085, 6.345442182121893, 6.442452872637519, 38.11936041556092, 8.013560288635084, 10.542897361204549, 8.272334244585231, 8.756091197084949, 8.241784723613153, 10.26705599545202, 11.895918515480078, 7.086120663789656, 6.981436339682609, 7.4915270561577705, 9.400526124997482, 7.094532920567548, 11.277958565609476, 7.256601784538125, 7.447296477508505, 7.23242778781251, 15.06198966908084, 6.776077067445095, 8.245986551286025, 10.409949717956687, 10.871647651073618, 9.589267147461513, 8.574878462108192, 7.315118435926201, 9.16633447770622, 9.904229846233696, 13.405843087707273, 7.244341340350262, 13.055591107776307], \"Category\": [\"Default\", \"Default\", \"Default\", \"Default\", \"Default\", \"Default\", \"Default\", \"Default\", \"Default\", \"Default\", \"Default\", \"Default\", \"Default\", \"Default\", \"Default\", \"Default\", \"Default\", \"Default\", \"Default\", \"Default\", \"Default\", \"Default\", \"Default\", \"Default\", \"Default\", \"Default\", \"Default\", \"Default\", \"Default\", \"Default\", \"Topic1\", \"Topic1\", \"Topic1\", \"Topic1\", \"Topic1\", \"Topic1\", \"Topic1\", \"Topic1\", \"Topic1\", \"Topic1\", \"Topic1\", \"Topic1\", \"Topic1\", \"Topic1\", \"Topic1\", \"Topic1\", \"Topic1\", \"Topic1\", \"Topic1\", \"Topic1\", \"Topic1\", \"Topic1\", \"Topic1\", \"Topic1\", \"Topic1\", \"Topic1\", \"Topic1\", \"Topic1\", \"Topic1\", \"Topic1\", \"Topic1\", \"Topic1\", \"Topic1\", \"Topic1\", \"Topic1\", \"Topic1\", \"Topic1\", \"Topic1\", \"Topic1\", \"Topic1\", \"Topic1\", \"Topic1\", \"Topic1\", \"Topic1\", \"Topic1\", \"Topic1\", \"Topic1\", \"Topic1\", \"Topic1\", \"Topic1\", \"Topic1\", \"Topic1\", \"Topic1\", \"Topic2\", \"Topic2\", \"Topic2\", \"Topic2\", \"Topic2\", \"Topic2\", \"Topic2\", \"Topic2\", \"Topic2\", \"Topic2\", \"Topic2\", \"Topic2\", \"Topic2\", \"Topic2\", \"Topic2\", \"Topic2\", \"Topic2\", \"Topic2\", \"Topic2\", \"Topic2\", \"Topic2\", \"Topic2\", \"Topic2\", \"Topic2\", \"Topic2\", \"Topic2\", \"Topic2\", \"Topic2\", \"Topic2\", \"Topic2\", \"Topic2\", \"Topic2\", \"Topic2\", \"Topic2\", \"Topic2\", \"Topic2\", \"Topic2\", \"Topic2\", \"Topic2\", \"Topic3\", \"Topic3\", \"Topic3\", \"Topic3\", \"Topic3\", \"Topic3\", \"Topic3\", \"Topic3\", \"Topic3\", \"Topic3\", \"Topic3\", \"Topic3\", \"Topic3\", \"Topic3\", \"Topic3\", \"Topic3\", \"Topic3\", \"Topic3\", \"Topic3\", \"Topic3\", \"Topic3\", \"Topic3\", \"Topic3\", \"Topic3\", \"Topic3\", \"Topic3\", \"Topic3\", \"Topic3\", \"Topic3\", \"Topic3\", \"Topic3\", \"Topic3\", \"Topic3\", \"Topic3\", \"Topic3\", \"Topic3\", \"Topic3\", \"Topic3\", \"Topic3\", \"Topic3\", \"Topic3\", \"Topic3\", \"Topic3\", \"Topic3\", \"Topic3\", \"Topic3\", \"Topic3\", \"Topic3\", \"Topic3\", \"Topic3\", \"Topic3\", \"Topic3\", \"Topic3\", \"Topic3\", \"Topic3\", \"Topic3\", \"Topic3\", \"Topic3\", \"Topic3\", \"Topic3\", \"Topic4\", \"Topic4\", \"Topic4\", \"Topic4\", \"Topic4\", \"Topic4\", \"Topic4\", \"Topic4\", \"Topic4\", \"Topic4\", \"Topic4\", \"Topic4\", \"Topic4\", \"Topic4\", \"Topic4\", \"Topic4\", \"Topic4\", \"Topic4\", \"Topic4\", \"Topic4\", \"Topic4\", \"Topic4\", \"Topic4\", \"Topic4\", \"Topic4\", \"Topic4\", \"Topic4\", \"Topic4\", \"Topic4\", \"Topic4\", \"Topic4\", \"Topic4\", \"Topic4\", \"Topic4\", \"Topic4\", \"Topic4\", \"Topic4\", \"Topic4\", \"Topic4\", \"Topic4\", \"Topic4\", \"Topic4\", \"Topic4\", \"Topic4\", \"Topic4\", \"Topic4\", \"Topic4\", \"Topic4\", \"Topic4\", \"Topic4\", \"Topic4\", \"Topic4\", \"Topic4\", \"Topic4\", \"Topic4\", \"Topic4\", \"Topic4\", \"Topic4\", \"Topic4\", \"Topic4\", \"Topic5\", \"Topic5\", \"Topic5\", \"Topic5\", \"Topic5\", \"Topic5\", \"Topic5\", \"Topic5\", \"Topic5\", \"Topic5\", \"Topic5\", \"Topic5\", \"Topic5\", \"Topic5\", \"Topic5\", \"Topic5\", \"Topic5\", \"Topic5\", \"Topic5\", \"Topic5\", \"Topic5\", \"Topic5\", \"Topic5\", \"Topic5\", \"Topic5\", \"Topic5\", \"Topic5\", \"Topic5\", \"Topic5\", \"Topic5\", \"Topic5\", \"Topic5\", \"Topic5\", \"Topic5\", \"Topic5\", \"Topic5\", \"Topic5\", \"Topic5\", \"Topic5\", \"Topic5\", \"Topic5\", \"Topic5\", \"Topic5\", \"Topic5\", \"Topic5\", \"Topic5\", \"Topic5\", \"Topic5\", \"Topic5\", \"Topic5\", \"Topic5\", \"Topic5\", \"Topic5\", \"Topic5\", \"Topic5\", \"Topic6\", \"Topic6\", \"Topic6\", \"Topic6\", \"Topic6\", \"Topic6\", \"Topic6\", \"Topic6\", \"Topic6\", \"Topic6\", \"Topic6\", \"Topic6\", \"Topic6\", \"Topic6\", \"Topic6\", \"Topic6\", \"Topic6\", \"Topic6\", \"Topic6\", \"Topic6\", \"Topic6\", \"Topic6\", \"Topic6\", \"Topic6\", \"Topic6\", \"Topic6\", \"Topic6\", \"Topic6\", \"Topic6\", \"Topic6\", \"Topic7\", \"Topic7\", \"Topic7\", \"Topic7\", \"Topic7\", \"Topic7\", \"Topic7\", \"Topic7\", \"Topic7\", \"Topic7\", \"Topic7\", \"Topic7\", \"Topic7\", \"Topic7\", \"Topic7\", \"Topic7\", \"Topic7\", \"Topic7\", \"Topic7\", \"Topic7\", \"Topic7\", \"Topic7\", \"Topic7\", \"Topic7\", \"Topic7\", \"Topic7\", \"Topic7\", \"Topic7\", \"Topic7\", \"Topic7\", \"Topic7\", \"Topic7\", \"Topic7\", \"Topic7\", \"Topic7\", \"Topic7\", \"Topic7\", \"Topic7\", \"Topic7\", \"Topic7\", \"Topic7\", \"Topic7\", \"Topic7\", \"Topic7\", \"Topic7\", \"Topic7\", \"Topic7\", \"Topic7\", \"Topic7\", \"Topic7\", \"Topic7\", \"Topic7\", \"Topic7\", \"Topic7\", \"Topic7\", \"Topic7\", \"Topic7\", \"Topic7\", \"Topic7\", \"Topic8\", \"Topic8\", \"Topic8\", \"Topic8\", \"Topic8\", \"Topic8\", \"Topic8\", \"Topic8\", \"Topic8\", \"Topic8\", \"Topic8\", \"Topic8\", \"Topic8\", \"Topic8\", \"Topic8\", \"Topic8\", \"Topic8\", \"Topic8\", \"Topic8\", \"Topic8\", \"Topic8\", \"Topic8\", \"Topic8\", \"Topic8\", \"Topic8\", \"Topic8\", \"Topic8\", \"Topic8\", \"Topic8\", \"Topic8\", \"Topic8\", \"Topic8\", \"Topic8\", \"Topic8\", \"Topic8\", \"Topic8\", \"Topic8\", \"Topic8\", \"Topic8\", \"Topic8\", \"Topic9\", \"Topic9\", \"Topic9\", \"Topic9\", \"Topic9\", \"Topic9\", \"Topic9\", \"Topic9\", \"Topic9\", \"Topic9\", \"Topic9\", \"Topic9\", \"Topic9\", \"Topic9\", \"Topic9\", \"Topic9\", \"Topic9\", \"Topic9\", \"Topic9\", \"Topic9\", \"Topic9\", \"Topic9\", \"Topic9\", \"Topic9\", \"Topic9\", \"Topic9\", \"Topic9\", \"Topic9\", \"Topic9\", \"Topic9\", \"Topic9\", \"Topic9\", \"Topic9\", \"Topic9\", \"Topic9\", \"Topic9\", \"Topic9\", \"Topic9\", \"Topic9\", \"Topic9\", \"Topic9\", \"Topic9\", \"Topic9\", \"Topic9\", \"Topic9\", \"Topic9\", \"Topic9\", \"Topic9\", \"Topic9\", \"Topic9\", \"Topic9\", \"Topic9\", \"Topic9\", \"Topic9\", \"Topic9\", \"Topic9\", \"Topic9\", \"Topic9\", \"Topic9\", \"Topic9\", \"Topic10\", \"Topic10\", \"Topic10\", \"Topic10\", \"Topic10\", \"Topic10\", \"Topic10\", \"Topic10\", \"Topic10\", \"Topic10\", \"Topic10\", \"Topic10\", \"Topic10\", \"Topic10\", \"Topic10\", \"Topic10\", \"Topic10\", \"Topic10\", \"Topic10\", \"Topic10\", \"Topic10\", \"Topic10\", \"Topic10\", \"Topic10\", \"Topic10\", \"Topic10\", \"Topic10\", \"Topic10\", \"Topic10\", \"Topic10\", \"Topic10\", \"Topic10\", \"Topic10\", \"Topic10\", \"Topic10\", \"Topic10\", \"Topic10\", \"Topic10\", \"Topic10\", \"Topic10\", \"Topic10\", \"Topic10\", \"Topic10\", \"Topic10\", \"Topic10\", \"Topic10\", \"Topic10\", \"Topic10\", \"Topic10\", \"Topic10\", \"Topic10\", \"Topic10\", \"Topic10\", \"Topic10\", \"Topic10\", \"Topic10\", \"Topic10\", \"Topic10\", \"Topic10\", \"Topic10\"], \"logprob\": [30.0, 29.0, 28.0, 27.0, 26.0, 25.0, 24.0, 23.0, 22.0, 21.0, 20.0, 19.0, 18.0, 17.0, 16.0, 15.0, 14.0, 13.0, 12.0, 11.0, 10.0, 9.0, 8.0, 7.0, 6.0, 5.0, 4.0, 3.0, 2.0, 1.0, -6.1384, -6.4099, -6.101, -6.4374, -6.3215, -6.4802, -6.5074, -6.5149, -6.6454, -6.3598, -6.669, -6.558, -6.3951, -6.6895, -6.7602, -6.6117, -6.7839, -6.7856, -6.7, -6.9287, -6.9341, -6.9529, -6.8392, -6.928, -6.8632, -6.5304, -7.0236, -7.0445, -7.0418, -7.0631, -6.8354, -5.923, -5.977, -6.2406, -6.7887, -5.7154, -6.4795, -6.6092, -6.6146, -6.7079, -6.7468, -6.4491, -6.1943, -6.287, -6.5353, -6.5945, -6.644, -6.3705, -6.5623, -6.5815, -6.6324, -6.6203, -6.5902, -6.103, -6.6209, -6.585, -6.7631, -6.8768, -6.8657, -6.7354, -6.9157, -6.9266, -6.9476, -6.5596, -6.9785, -6.8582, -6.8474, -6.7613, -6.3924, -6.9938, -7.1646, -7.1352, -6.984, -6.7718, -7.0648, -7.2557, -7.2555, -7.252, -7.1906, -7.2916, -7.2634, -7.2775, -7.3439, -7.1119, -6.9993, -6.1103, -6.8078, -7.0171, -6.9997, -6.9151, -7.1393, -7.1271, -8.5053, -8.5053, -8.5053, -8.5053, -8.5053, -8.5053, -8.5053, -8.5053, -8.5053, -8.5053, -8.5053, -8.5053, -8.5053, -8.5053, -8.5053, -8.5053, -8.5053, -8.5053, -8.5053, -8.5053, -8.5053, -8.5053, -8.5053, -8.5053, -8.5053, -8.5053, -8.5053, -8.5053, -8.5053, -8.5053, -8.5053, -8.5053, -8.5053, -8.5053, -8.5053, -8.5053, -8.5053, -8.5053, -8.5053, -8.5053, -8.5053, -8.5053, -8.5053, -8.5053, -8.5053, -8.5053, -8.5053, -8.5053, -8.5053, -8.5053, -8.5053, -8.5053, -8.5053, -8.5053, -8.5053, -8.5053, -8.5053, -8.5053, -8.5053, -8.5053, -8.5053, -8.5053, -8.5053, -8.5053, -8.5053, -8.5053, -8.5053, -8.5053, -8.5053, -8.5053, -8.5053, -8.5053, -8.5053, -8.5053, -8.5053, -8.5053, -8.5053, -8.5053, -8.5053, -8.5053, -8.5053, -8.5053, -8.5053, -8.5053, -8.5053, -8.5053, -8.5053, -8.5053, -8.5053, -8.5053, -8.5053, -8.5053, -8.5053, -8.5053, -8.5053, -8.5053, -8.5053, -8.5053, -8.5053, -8.5053, -8.5053, -8.5053, -8.5053, -8.5053, -8.5053, -8.5053, -8.5053, -8.5053, -8.5053, -8.5053, -8.5053, -8.5053, -8.5053, -8.5053, -8.5053, -8.5053, -8.5053, -8.5053, -8.5053, -8.5053, -7.0335, -6.9653, -6.6449, -7.0571, -7.8226, -8.5087, -8.5087, -8.5087, -8.5087, -8.5087, -8.5087, -8.5087, -8.5087, -8.5087, -8.5087, -8.5087, -8.5087, -8.5087, -8.5087, -8.5087, -8.5087, -8.5087, -8.5087, -8.5087, -8.5087, -8.5087, -8.5087, -8.5087, -8.5087, -8.5087, -8.5075, -8.5071, -8.5077, -8.508, -8.508, -8.5081, -8.5081, -8.5082, -8.5083, -8.5084, -8.5084, -8.5084, -8.5084, -8.5084, -8.5085, -8.5085, -8.5085, -8.5085, -8.5085, -8.5085, -8.5085, -8.5085, -8.5085, -8.5085, -8.5085, -5.7162, -6.2208, -6.2993, -6.3571, -6.5935, -6.5958, -6.6307, -6.6624, -6.6715, -6.7227, -6.737, -6.7384, -6.7686, -6.7692, -6.7779, -6.8071, -6.8146, -6.8184, -6.8263, -6.8313, -6.8511, -6.8647, -6.8735, -6.9074, -6.9091, -6.9206, -6.9359, -6.9466, -6.9618, -6.9627, -7.1431, -8.5059, -8.5059, -8.5059, -8.5059, -8.5059, -8.5059, -8.5059, -8.5059, -8.5059, -8.5059, -8.5059, -8.5059, -8.5059, -8.5059, -8.5059, -8.5059, -8.5059, -8.5059, -8.5059, -8.5059, -8.5059, -8.5059, -8.5059, -8.5059, -8.5059, -8.5059, -8.5059, -8.5059, -8.5059, -8.38, -8.4947, -8.5039, -8.5052, -8.5053, -8.5054, -8.5056, -8.5057, -8.5058, -8.5059, -8.5059, -8.5059, -8.5059, -8.5059, -8.5059, -8.5059, -8.5059, -8.5059, -8.5059, -8.5059, -8.5059, -8.5059, -8.5059, -8.5059, -8.5059, -8.5059, -8.5059, -8.5059, -8.5059, -6.1628, -6.4084, -6.3304, -6.5508, -6.6133, -6.5058, -6.6264, -7.0343, -6.9974, -6.6007, -7.0686, -6.8524, -7.043, -7.0094, -7.2608, -7.4139, -6.7957, -6.9376, -6.1215, -7.3836, -7.3442, -7.5637, -7.027, -7.2375, -7.444, -7.665, -7.4644, -7.782, -7.4768, -7.6019, -6.905, -6.2809, -6.0953, -6.7167, -6.8614, -7.0699, -7.1804, -7.1704, -7.1002, -7.3164, -8.5053, -8.5053, -8.5053, -8.5053, -8.5053, -8.5053, -8.5053, -8.5053, -8.5053, -8.5053, -8.5053, -8.5053, -8.5053, -8.5053, -8.5053, -8.5053, -8.5053, -8.5053, -8.5053, -8.5053, -8.5053, -8.5053, -8.5053, -8.5053, -8.5053, -8.5053, -8.5053, -8.5053, -8.5053, -8.5053, -8.5053, -8.5053, -8.5053, -8.5053, -8.5053, -8.5053, -8.5053, -8.5053, -8.5053, -8.5053, -8.5053, -8.5053, -8.5053, -8.5053, -8.5053, -8.5053, -8.5053, -8.5053, -8.5053, -8.5053, -8.5053, -8.5053, -8.5053, -8.5053, -8.5053, -8.5053, -8.5053, -8.5053, -8.5053, -8.5053, -8.5053, -8.5053, -8.5053, -8.5053, -8.5053, -8.5053, -8.5053, -8.5053, -8.5053, -8.5053, -8.5053, -8.5053, -8.5053, -8.5053, -8.5053, -8.5053, -8.5053, -8.5053, -8.5053, -8.5053, -8.5053, -8.5053, -8.5053, -8.5053, -8.5053, -8.5053, -8.5053, -8.5053, -8.5053, -8.5053, -8.5048, -8.5053, -8.5053, -8.5053, -8.5053, -8.5053, -8.5053, -8.5053, -8.5053, -8.5053, -8.5053, -8.5053, -8.5053, -8.5053, -8.5053, -8.5053, -8.5053, -8.5053, -8.5053, -8.5053, -8.5053, -8.5053, -8.5053, -8.5053, -8.5053, -8.5053, -8.5053, -8.5053, -8.5053, -8.5053], \"loglift\": [30.0, 29.0, 28.0, 27.0, 26.0, 25.0, 24.0, 23.0, 22.0, 21.0, 20.0, 19.0, 18.0, 17.0, 16.0, 15.0, 14.0, 13.0, 12.0, 11.0, 10.0, 9.0, 8.0, 7.0, 6.0, 5.0, 4.0, 3.0, 2.0, 1.0, 2.741, 2.7321, 2.7301, 2.723, 2.6732, 2.6722, 2.6708, 2.6554, 2.6433, 2.6384, 2.6322, 2.6215, 2.6156, 2.5996, 2.5793, 2.5718, 2.5672, 2.5537, 2.54, 2.5191, 2.5166, 2.5065, 2.5045, 2.4917, 2.4889, 2.484, 2.4719, 2.4625, 2.4589, 2.4525, 2.4493, 2.4282, 2.4165, 2.4269, 2.4443, 2.2593, 2.3907, 2.3937, 2.3919, 2.4144, 2.4194, 2.1893, 1.8562, 1.66, 2.0954, 2.1571, 2.2389, 1.0607, 1.8054, 1.7484, 2.0922, 1.822, 0.4696, 3.6545, 3.2462, 3.1346, 3.0856, 3.0313, 3.02, 3.0064, 2.9882, 2.9878, 2.9699, 2.9552, 2.9431, 2.9056, 2.9041, 2.8499, 2.7893, 2.7814, 2.7776, 2.7571, 2.7569, 2.7088, 2.7036, 2.6965, 2.6946, 2.6851, 2.6632, 2.6605, 2.6544, 2.5929, 2.5869, 2.584, 2.5693, 2.4877, 2.4289, 2.4481, 2.3797, 2.1982, 2.5245, 2.3407, 1.4781, 1.4741, 1.4709, 1.4685, 1.4653, 1.4613, 1.4599, 1.4523, 1.4505, 1.4469, 1.4467, 1.4448, 1.4384, 1.437, 1.4318, 1.4255, 1.4163, 1.413, 1.4124, 1.4122, 1.4091, 1.4069, 1.4028, 1.401, 1.3996, 1.3986, 1.391, 1.387, 1.3803, 1.3651, 1.1469, 0.8726, 1.1151, 1.0583, 1.1188, 0.8991, 0.7518, 1.2699, 1.2848, 1.2143, 0.9873, 1.2687, 0.8052, 1.2461, 1.2202, 1.2495, 0.5159, 1.3146, 1.1183, 0.8853, 0.8419, 0.9674, 1.0792, 1.2381, 1.0125, 0.9351, 0.6323, 1.2478, 0.6588, 1.2044, 1.4781, 1.4741, 1.4709, 1.4685, 1.4653, 1.4613, 1.4599, 1.4523, 1.4505, 1.4469, 1.4467, 1.4448, 1.4384, 1.437, 1.4318, 1.4255, 1.4163, 1.413, 1.4124, 1.4122, 1.4091, 1.4069, 1.4028, 1.401, 1.3996, 1.3986, 1.391, 1.387, 1.3803, 1.3651, 1.1469, 0.8726, 1.1151, 1.0583, 1.1188, 0.8991, 0.7518, 1.2699, 1.2848, 1.2143, 0.9873, 1.2687, 0.8052, 1.2461, 1.2202, 1.2495, 0.5159, 1.3146, 1.1183, 0.8853, 0.8419, 0.9674, 1.0792, 1.2381, 1.0125, 0.9351, 0.6323, 1.2478, 0.6588, 1.2044, 2.6761, 2.414, 2.3296, 2.1302, 1.7284, 1.4748, 1.4707, 1.4675, 1.4651, 1.4619, 1.4579, 1.4565, 1.4489, 1.4471, 1.4435, 1.4433, 1.4414, 1.4351, 1.4336, 1.4284, 1.4221, 1.4129, 1.4096, 1.4091, 1.4088, 1.4057, 1.4035, 1.3994, 1.3976, 1.3962, 1.3338, 0.115, 0.8955, 0.79, 0.6417, 0.8263, 0.7232, 1.0379, 1.103, 0.8039, 0.7895, 0.2902, 0.7736, 0.641, 0.7338, 0.7731, 0.7095, 0.7089, 0.4279, 0.9857, 0.6138, 0.8821, 0.6548, 0.6517, 0.9651, 0.054, 0.0521, 0.0517, 0.0514, 0.0499, 0.0499, 0.0496, 0.0494, 0.0493, 0.0489, 0.0488, 0.0488, 0.0486, 0.0486, 0.0485, 0.0482, 0.0482, 0.0481, 0.0481, 0.048, 0.0478, 0.0477, 0.0476, 0.0473, 0.0473, 0.0472, 0.047, 0.0469, 0.0468, 0.0468, 2.7877, 1.4775, 1.4735, 1.4703, 1.4679, 1.4647, 1.4607, 1.4593, 1.4516, 1.4499, 1.4463, 1.4461, 1.4442, 1.4378, 1.4363, 1.4311, 1.4157, 1.4124, 1.4118, 1.4116, 1.4085, 1.4063, 1.4022, 1.4004, 1.399, 1.398, 1.3904, 1.3864, 1.3797, 1.3645, -0.4201, 0.6927, 0.9005, 0.2217, 0.876, -0.4189, 0.8357, -0.5089, 0.3026, 1.2936, 1.235, 0.8086, 0.9765, 1.2007, 0.5436, 0.7534, 0.553, 0.6425, 1.3157, 0.6371, 1.0569, 0.7733, 0.6122, 0.7439, 1.2954, 0.4428, 1.1252, 0.6985, 0.7057, 3.4873, 3.3448, 3.2541, 3.1094, 3.1073, 3.0859, 2.8914, 2.8281, 2.8226, 2.7755, 2.7232, 2.7111, 2.7106, 2.6992, 2.592, 2.5656, 2.4987, 2.4887, 2.4737, 2.4577, 2.4509, 2.4198, 2.4076, 2.3073, 2.2815, 2.2533, 2.2453, 2.1756, 2.1469, 2.1415, 2.0837, 1.9988, 1.9593, 1.4372, 1.263, 1.4802, 1.6725, 1.5571, 1.2142, 1.6454, 1.4781, 1.4741, 1.4709, 1.4685, 1.4653, 1.4613, 1.4599, 1.4523, 1.4505, 1.4469, 1.4467, 1.4448, 1.4384, 1.437, 1.4318, 1.4255, 1.4163, 1.413, 1.4124, 1.4122, 1.4091, 1.4069, 1.4028, 1.401, 1.3996, 1.3986, 1.391, 1.387, 1.3803, 1.3651, 1.1469, 0.8726, 1.1151, 1.0583, 1.1188, 0.8991, 0.7518, 1.2699, 1.2848, 1.2143, 0.9873, 1.2687, 0.8052, 1.2461, 1.2202, 1.2495, 0.5159, 1.3146, 1.1183, 0.8853, 0.8419, 0.9674, 1.0792, 1.2381, 1.0125, 0.9351, 0.6323, 1.2478, 0.6588, 1.2044, 1.4781, 1.4741, 1.4709, 1.4685, 1.4653, 1.4613, 1.4599, 1.4523, 1.4505, 1.4469, 1.4467, 1.4448, 1.4384, 1.437, 1.4318, 1.4255, 1.4163, 1.413, 1.4124, 1.4122, 1.4091, 1.4069, 1.4028, 1.401, 1.3996, 1.3986, 1.391, 1.387, 1.3803, 1.3651, -0.4121, 1.1469, 0.8726, 1.1151, 1.0583, 1.1188, 0.8991, 0.7518, 1.2699, 1.2848, 1.2143, 0.9873, 1.2687, 0.8052, 1.2461, 1.2202, 1.2495, 0.5159, 1.3146, 1.1183, 0.8853, 0.8419, 0.9674, 1.0792, 1.2381, 1.0125, 0.9351, 0.6323, 1.2478, 0.6588]}, \"token.table\": {\"Topic\": [1, 6, 1, 6, 1, 6, 1, 2, 6, 1, 6, 1, 6, 1, 6, 1, 6, 1, 2, 6, 1, 6, 1, 2, 6, 1, 6, 8, 1, 2, 6, 1, 6, 1, 6, 8, 1, 6, 1, 2, 6, 1, 6, 1, 2, 6, 1, 6, 1, 6, 1, 2, 6, 1, 2, 6, 1, 6, 1, 6, 1, 6, 1, 6, 1, 6, 1, 6, 1, 6, 1, 2, 6, 1, 6, 1, 6, 1, 6, 8, 1, 6, 1, 6, 1, 6, 1, 6, 1, 6, 1, 6, 1, 2, 6, 1, 6, 1, 2, 6, 1, 6, 1, 6, 1, 6, 1, 6, 1, 6, 8, 1, 6, 1, 6, 1, 6, 1, 2, 6, 1, 2, 6, 1, 2, 6, 1, 6, 1, 2, 6, 1, 6, 1, 6, 1, 6, 1, 6, 1, 6, 1, 2, 6, 1, 6, 1, 6, 8, 1, 6, 1, 6, 1, 6, 1, 6, 1, 6, 1, 6, 1, 6, 1, 6, 1, 6, 8, 1, 6, 1, 6, 1, 6, 1, 2, 6, 1, 6, 8, 1, 6, 8, 1, 6, 8, 1, 6, 1, 2, 6, 1, 6, 8, 1, 6, 1, 6, 1, 6, 1, 6, 1, 6, 1, 6, 1, 6, 1, 6, 1, 6, 1, 2, 6, 1, 6, 1, 6, 8, 1, 6, 8, 1, 6, 1, 2, 6, 1, 6, 1, 6, 1, 6, 1, 6, 1, 6, 1, 6, 1, 6, 1, 6, 1, 2, 6, 1, 2, 6, 1, 6, 8, 1, 6, 1, 6, 1, 6, 1, 2, 6, 1, 6, 8, 1, 6, 8, 1, 6, 1, 6, 1, 6, 1, 6, 1, 6, 1, 6, 1, 6, 1, 6, 1, 6, 1, 6, 1, 6, 1, 2, 6, 1, 6, 1, 6, 1, 6, 1, 2, 6, 1, 6, 1, 6, 1, 6, 1, 6, 1, 6, 1, 6, 1, 6, 1, 6, 1, 6, 1, 6, 1, 2, 6, 1, 6, 1, 6, 1, 2, 6, 1, 6, 1, 6, 1, 2, 6, 1, 6, 1, 6, 1, 6, 1, 2, 6, 1, 6, 1, 6, 1, 6, 1, 6, 1, 6, 1, 6, 1, 2, 6, 1, 2, 6, 1, 6, 8, 1, 6, 8, 1, 6, 1, 6, 8, 1, 6, 1, 6, 1, 6, 1, 6, 1, 6, 1, 2, 6, 1, 2, 6, 1, 6, 1, 6, 1, 2, 6, 1, 2, 6, 1, 2, 6, 1, 6, 1, 6, 1, 6, 1, 2, 6, 1, 6, 1, 6, 1, 6, 1, 6, 1, 6, 1, 6, 1, 6, 1, 6, 1, 6, 8, 1, 6, 8, 1, 6, 1, 6, 1, 6, 1, 6, 1, 6, 1, 6, 1, 6, 1, 6, 1, 6, 1, 6, 1, 6, 1, 6, 1, 6, 1, 6, 1, 6, 8, 1, 6, 1, 6, 1, 6, 1, 2, 6, 1, 6, 1, 6, 1, 6, 1, 6, 1, 6, 1, 6, 1, 6, 8, 1, 6, 1, 6, 1, 6, 1, 2, 6, 1, 6, 1, 6, 1, 6, 1, 6, 1, 6, 1, 6, 8, 1, 2, 6, 1, 6, 1, 6, 1, 6, 1, 6, 1, 6, 1, 6, 1, 6, 1, 6, 1, 6, 8, 1, 6, 1, 6, 1, 6, 1, 6, 1, 6, 1, 2, 6, 1, 6, 8, 1, 6, 8, 1, 6, 1, 6], \"Freq\": [0.006594151837489592, 0.9957169274609283, 0.08593997060872197, 0.8593997060872196, 0.08755455915389827, 0.8755455915389827, 0.13036516744577079, 0.13036516744577079, 0.7821910046746247, 0.026233388732088598, 0.9706353830872781, 0.24254223403845895, 0.7276267021153768, 0.007000956976896646, 0.9941358907193237, 0.31312911870305477, 0.6262582374061095, 0.16905786093002365, 0.16905786093002365, 0.6762314437200946, 0.02297202988023381, 0.96482525496982, 0.16051131189646786, 0.16051131189646786, 0.6420452475858714, 0.10039251368699177, 0.8031401094959342, 0.10039251368699177, 0.14112093872604198, 0.14112093872604198, 0.70560469363021, 0.6743132135351032, 0.299694761571157, 0.04335988614490259, 0.9105576090429544, 0.04335988614490259, 0.056111386384206687, 0.897782182147307, 0.13864343991364061, 0.27728687982728123, 0.5545737596545625, 0.06894240199388121, 0.8962512259204557, 0.15864808912206738, 0.15864808912206738, 0.6345923564882695, 0.21308934758810008, 0.7458127165583502, 0.15928531769392343, 0.6371412707756937, 0.14017343628999737, 0.14017343628999737, 0.7008671814499868, 0.2727172365421956, 0.1363586182710978, 0.5454344730843912, 0.6056274978322811, 0.37851718614517565, 0.5184489868863604, 0.5184489868863604, 0.061752593111438187, 0.9262888966715728, 0.14095360627631032, 0.8457216376578619, 0.07346141011220358, 0.8815369213464429, 0.1780511677582642, 0.8012302549121889, 0.008517888437373484, 0.9880750587353242, 0.1051060478981323, 0.1051060478981323, 0.8408483831850584, 0.4407549135054172, 0.51421406575632, 0.26051323772713, 0.7443235363632286, 0.1353932535304623, 0.8394381718888662, 0.027078650706092458, 0.5361631556992135, 0.42893052455937075, 0.0238352988254544, 0.9772472518436305, 0.17309670720549333, 0.6923868288219733, 0.13216748871824804, 0.7930049323094882, 0.17157946091104762, 0.6863178436441905, 0.08031994634391239, 0.8835194097830362, 0.15265951434573433, 0.15265951434573433, 0.7632975717286716, 0.14395281318204836, 0.7197640659102419, 0.07280448467163991, 0.07280448467163991, 0.873653816059679, 0.007668496371764447, 0.9892360319576137, 0.2417759611632199, 0.7253278834896597, 0.36792951062987994, 0.6438766436022899, 0.5445047178151264, 0.38893194129651887, 0.08725874662029653, 0.8725874662029653, 0.08725874662029653, 0.1725446680756812, 0.6901786723027248, 0.5466554894086917, 0.3904682067204941, 0.6337397179563166, 0.3456762097943545, 0.12622954822554838, 0.12622954822554838, 0.7573772893532903, 0.04348158733499307, 0.08696317466998614, 0.8696317466998614, 0.1575934302604588, 0.1575934302604588, 0.6303737210418352, 0.35493570396895546, 0.6084612068039237, 0.16488073669017847, 0.16488073669017847, 0.8244036834508924, 0.007611783824015375, 0.9895318971219986, 0.09727620458748511, 0.8754858412873661, 0.008407701480288762, 0.992108774674074, 0.05314486417414606, 0.956607555134629, 0.39635318881360404, 0.5828723364905941, 0.35933517269735543, 0.11977839089911847, 0.4791135635964739, 0.008059008809881137, 0.99125808361538, 0.1380387744059076, 0.690193872029538, 0.1380387744059076, 0.5145172370095663, 0.4116137896076531, 0.4756403899361722, 0.5096147035030416, 0.16702784319126518, 0.8351392159563259, 0.5086132729353339, 0.40689061834826706, 0.2956301118551636, 0.5912602237103272, 0.08882273126041636, 0.8882273126041635, 0.38297768049903524, 0.5361687526986494, 0.26352003405057267, 0.6588000851264316, 0.04949948850754998, 0.9404902816434497, 0.04949948850754998, 0.02607279204362761, 0.9646933056142216, 0.05366825981917429, 0.9123604169259629, 0.5546041436979697, 0.46217011974830813, 0.08236299923417904, 0.08236299923417904, 0.8236299923417905, 0.1336106484584074, 0.8016638907504443, 0.1336106484584074, 0.02525460968660802, 0.9344205584044968, 0.02525460968660802, 0.09469229210445507, 0.7575383368356405, 0.09469229210445507, 0.1432370004315562, 0.8594220025893372, 0.1037722462296472, 0.1037722462296472, 0.8301779698371776, 0.06427341250491508, 0.8998277750688112, 0.06427341250491508, 0.007111051571081681, 0.9884361683803536, 0.007331509675749019, 0.9897538062261176, 0.07315177550121592, 0.9509730815158068, 0.04454683335565044, 0.9354835004686591, 0.549954739970748, 0.45829561664228996, 0.6214158313390872, 0.3883848945869295, 0.6104487963728141, 0.30522439818640706, 0.1706558406863841, 0.6826233627455364, 0.5100540524853486, 0.4080432419882789, 0.13951300707116782, 0.13951300707116782, 0.697565035355839, 0.13670318652515231, 0.820219119150914, 0.25155868601533565, 0.6288967150383391, 0.12577934300766783, 0.2869707212839624, 0.5739414425679248, 0.1434853606419812, 0.007951466637716722, 0.9939333297145903, 0.1621957290660928, 0.1621957290660928, 0.6487829162643712, 0.16184395291126108, 0.8092197645563054, 0.007394487086148913, 0.9908612695439543, 0.24435808899861525, 0.7330742669958458, 0.08866852934265579, 0.7980167640839021, 0.5476822738404508, 0.36512151589363384, 0.12133294347460286, 0.8493306043222201, 0.11420621113824363, 0.7994434779677053, 0.3454445468887001, 0.6415398727933002, 0.09498444330521373, 0.09498444330521373, 0.8548599897469236, 0.1667809081217715, 0.1667809081217715, 0.667123632487086, 0.1320265052559503, 0.7921590315357019, 0.1320265052559503, 0.22678286334124734, 0.7710617353602409, 0.008647940337441134, 0.9858651984682893, 0.17379299015460672, 0.6951719606184269, 0.137805549993212, 0.137805549993212, 0.68902774996606, 0.39821492446707496, 0.5973223867006124, 0.09955373111676874, 0.1381109675960242, 0.8286658055761452, 0.1381109675960242, 0.08191014923727795, 0.9010116416100574, 0.5442697077382759, 0.4354157661906207, 0.0842452520977244, 0.842452520977244, 0.007758284161405483, 0.9930603726599018, 0.06537162044055278, 0.9338802920078969, 0.1628301314499909, 0.8141506572499544, 0.09517048042115406, 0.8565343237903865, 0.4607457750263249, 0.5316297404149902, 0.07653325801857956, 0.9183990962229547, 0.6149208416946426, 0.35138333811122435, 0.34985918613969835, 0.5830986435661639, 0.15522038263519394, 0.15522038263519394, 0.6208815305407758, 0.006172343798208459, 0.9937473515115619, 0.15250340610405747, 0.6100136244162299, 0.40469775753100157, 0.5781396536157165, 0.11477163269671475, 0.11477163269671475, 0.8034014288770033, 0.17212389364064104, 0.6884955745625642, 0.23958174869938767, 0.7187452460981629, 0.13660308796899212, 0.8196185278139527, 0.23281977280624272, 0.7317192859624772, 0.13427691552499468, 0.805661493149968, 0.004251705317177846, 0.9948990442196161, 0.004868752459759442, 0.9932255017909261, 0.08281883406552103, 0.9110071747207313, 0.5475123278772347, 0.36500821858482313, 0.0861765132421226, 0.8617651324212259, 0.10349826626130142, 0.10349826626130142, 0.8279861300904113, 0.5275389232094874, 0.46159655780830144, 0.00710068934183672, 0.9940965078571408, 0.16274094261665842, 0.16274094261665842, 0.8137047130832921, 0.46048491716792256, 0.5372324033625763, 0.5048348107451648, 0.5048348107451648, 0.15188061329788563, 0.15188061329788563, 0.7594030664894281, 0.6165521979653815, 0.38534512372836344, 0.10428325591749957, 0.8342660473399965, 0.1382661575529475, 0.829596945317685, 0.16809178116683848, 0.16809178116683848, 0.6723671246673539, 0.007326854024093741, 0.989125293252655, 0.07839393316084214, 0.8623332647692636, 0.2891608574631641, 0.7229021436579103, 0.37297169355837373, 0.5967547096933979, 0.3753741786146703, 0.6256236310244505, 0.16066203025338208, 0.6426481210135283, 0.16117569547352603, 0.16117569547352603, 0.6447027818941041, 0.1627038627853591, 0.1627038627853591, 0.6508154511414364, 0.11419855595158013, 0.7993898916610609, 0.11419855595158013, 0.2490591789882658, 0.6226479474706644, 0.1245295894941329, 0.09739890387692131, 0.7791912310153705, 0.03163008389932954, 0.9172724330805566, 0.03163008389932954, 0.6075550281431096, 0.4339678772450783, 0.006158153824946007, 0.9914627658163071, 0.008129440092899762, 0.991791691333771, 0.2244544313948926, 0.7855905098821241, 0.008872184795651163, 0.9936846971129303, 0.1546957563956465, 0.1546957563956465, 0.618783025582586, 0.1684153384056073, 0.1684153384056073, 0.6736613536224292, 0.2766744651068045, 0.7294144989179391, 0.28818583002616593, 0.6724336033943872, 0.10876739499700952, 0.10876739499700952, 0.7613717649790667, 0.1559058517896295, 0.07795292589481476, 0.7795292589481476, 0.16336921590799042, 0.16336921590799042, 0.6534768636319617, 0.3191310741664264, 0.6382621483328528, 0.0025718109664197336, 0.9978626549708567, 0.07539720133013203, 0.9047664159615845, 0.13648392947607224, 0.13648392947607224, 0.6824196473803612, 0.5913063869615754, 0.39420425797438363, 0.07499588131008364, 0.8999505757210036, 0.008880056870070695, 0.9856863125778471, 0.16935273441222087, 0.8467636720611045, 0.11207858355814887, 0.784550084907042, 0.08756835737688524, 0.8756835737688524, 0.1247884790257597, 0.7487308741545582, 0.583961526388878, 0.38930768425925194, 0.11661342242303807, 0.6996805345382284, 0.11661342242303807, 0.04145016117776354, 0.9533537070885614, 0.04145016117776354, 0.06639229092374123, 0.9294920729323772, 0.3158997433646128, 0.6317994867292256, 0.08344580113625213, 0.9179038124987735, 0.07548086744985362, 0.9057704093982434, 0.1208848639855871, 0.8461940478991097, 0.07629559451496287, 0.9155471341795545, 0.15076237496349779, 0.7538118748174889, 0.4563149938138929, 0.5215028500730204, 0.08082967117197706, 0.8891263828917476, 0.6072781601892681, 0.3470160915367246, 0.49236847597829686, 0.49236847597829686, 0.16089123835651156, 0.8044561917825579, 0.3794023467134457, 0.66395410674853, 0.07974445122840734, 0.8771889635124808, 0.15397959717993617, 0.7698979858996808, 0.15397959717993617, 0.5395753001176595, 0.4316602400941276, 0.0045971931127655975, 0.992993712357369, 0.006653808562310191, 0.9914174757842186, 0.16591646143722757, 0.16591646143722757, 0.6636658457489103, 0.36221724685678375, 0.5886030261422737, 0.4579772561743326, 0.5234025784849515, 0.17227274511075605, 0.7752273529984022, 0.0633633618215579, 0.9504504273233684, 0.0609926123919648, 0.9148891858794721, 0.008421882106571956, 0.9937820885754908, 0.02788895124372857, 0.9482243422867714, 0.02788895124372857, 0.17088945586073115, 0.6835578234429246, 0.12185598139968956, 0.8800709767755357, 0.18288624073383108, 0.8229880833022398, 0.22822304093483423, 0.11411152046741711, 0.6846691228045028, 0.07549795255731272, 0.9059754306877527, 0.28969566432212684, 0.5793913286442537, 0.08078623037147936, 0.8886485340862731, 0.006389950278703169, 0.9904422931989912, 0.1816204832226079, 0.8172921745017355, 0.03274825721172542, 0.9496994591400372, 0.03274825721172542, 0.1334841338092793, 0.1334841338092793, 0.6674206690463964, 0.4945089930424012, 0.4945089930424012, 0.5819109077097585, 0.387940605139839, 0.08406244534196386, 0.9246868987616025, 0.4957795683139354, 0.4131496402616128, 0.658787522829365, 0.3293937614146825, 0.007796808741315474, 0.9901947101470652, 0.11277636009564573, 0.7894345206695201, 0.049467134485298415, 0.9398755552206699, 0.1475780145424243, 0.7378900727121215, 0.1475780145424243, 0.4661278748468787, 0.5127406623315666, 0.5334523174067848, 0.4267618539254278, 0.00874005523841217, 0.9876262419405751, 0.0076980917314130055, 0.9930538333522777, 0.3594620892878913, 0.6290586562538097, 0.16844798686602017, 0.16844798686602017, 0.6737919474640807, 0.11745740493925667, 0.8222018345747968, 0.11745740493925667, 0.10909486255734359, 0.7636640379014051, 0.10909486255734359, 0.5540803346588351, 0.4617336122156959, 0.4566915975252943, 0.5137780472159561], \"Term\": [\"000\", \"000\", \"160\", \"160\", \"abrupt\", \"abrupt\", \"al\", \"al\", \"al\", \"alexander\", \"alexander\", \"amateur\", \"amateur\", \"american\", \"american\", \"anger\", \"anger\", \"ann\", \"ann\", \"ann\", \"anne\", \"anne\", \"ap\", \"ap\", \"ap\", \"arnold\", \"arnold\", \"arnold\", \"austin\", \"austin\", \"austin\", \"baby\", \"baby\", \"ball\", \"ball\", \"ball\", \"bars\", \"bars\", \"baseball\", \"baseball\", \"baseball\", \"basketball\", \"basketball\", \"bat\", \"bat\", \"bat\", \"bathing\", \"bathing\", \"bats\", \"bats\", \"batting\", \"batting\", \"batting\", \"beat\", \"beat\", \"beat\", \"bed\", \"bed\", \"bedroom\", \"bedroom\", \"begged\", \"begged\", \"bernard\", \"bernard\", \"bet\", \"bet\", \"blind\", \"blind\", \"board\", \"board\", \"bob\", \"bob\", \"bob\", \"breakfast\", \"breakfast\", \"bridge\", \"bridge\", \"brown\", \"brown\", \"brown\", \"burns\", \"burns\", \"catholic\", \"catholic\", \"champions\", \"champions\", \"charlie\", \"charlie\", \"chef\", \"chef\", \"chemistry\", \"chemistry\", \"christmas\", \"christmas\", \"christmas\", \"chuck\", \"chuck\", \"churches\", \"churches\", \"churches\", \"city\", \"city\", \"clay\", \"clay\", \"clock\", \"clock\", \"clothes\", \"clothes\", \"coach\", \"coach\", \"coach\", \"coaches\", \"coaches\", \"cool\", \"cool\", \"couldn\", \"couldn\", \"cream\", \"cream\", \"cream\", \"dallas\", \"dallas\", \"dallas\", \"dancers\", \"dancers\", \"dancers\", \"dark\", \"dark\", \"dave\", \"dave\", \"dave\", \"day\", \"day\", \"defensive\", \"defensive\", \"development\", \"development\", \"dick\", \"dick\", \"didn\", \"didn\", \"dinner\", \"dinner\", \"dinner\", \"don\", \"don\", \"drill\", \"drill\", \"drill\", \"entrance\", \"entrance\", \"eyes\", \"eyes\", \"fans\", \"fans\", \"fingers\", \"fingers\", \"fist\", \"fist\", \"fixing\", \"fixing\", \"flat\", \"flat\", \"fold\", \"fold\", \"football\", \"football\", \"football\", \"forest\", \"forest\", \"forests\", \"forests\", \"frames\", \"frames\", \"francisco\", \"francisco\", \"francisco\", \"gallery\", \"gallery\", \"gallery\", \"game\", \"game\", \"game\", \"games\", \"games\", \"games\", \"gene\", \"gene\", \"giants\", \"giants\", \"giants\", \"golf\", \"golf\", \"golf\", \"good\", \"good\", \"government\", \"government\", \"grades\", \"grades\", \"guest\", \"guest\", \"guy\", \"guy\", \"hadn\", \"hadn\", \"hair\", \"hair\", \"helen\", \"helen\", \"hell\", \"hell\", \"hits\", \"hits\", \"hits\", \"hitting\", \"hitting\", \"hole\", \"hole\", \"hole\", \"holes\", \"holes\", \"holes\", \"home\", \"home\", \"homer\", \"homer\", \"homer\", \"hood\", \"hood\", \"house\", \"house\", \"hurry\", \"hurry\", \"illustration\", \"illustration\", \"inches\", \"inches\", \"injured\", \"injured\", \"insert\", \"insert\", \"inside\", \"inside\", \"jim\", \"jim\", \"jim\", \"johnny\", \"johnny\", \"johnny\", \"knee\", \"knee\", \"knee\", \"knew\", \"knew\", \"know\", \"know\", \"leagues\", \"leagues\", \"lee\", \"lee\", \"lee\", \"leg\", \"leg\", \"leg\", \"lever\", \"lever\", \"lever\", \"lifetime\", \"lifetime\", \"liked\", \"liked\", \"lined\", \"lined\", \"little\", \"little\", \"ll\", \"ll\", \"lock\", \"lock\", \"locked\", \"locked\", \"looked\", \"looked\", \"lowered\", \"lowered\", \"lumber\", \"lumber\", \"lunch\", \"lunch\", \"maid\", \"maid\", \"maid\", \"man\", \"man\", \"masters\", \"masters\", \"maybe\", \"maybe\", \"mays\", \"mays\", \"mays\", \"milwaukee\", \"milwaukee\", \"miniature\", \"miniature\", \"missed\", \"missed\", \"morning\", \"morning\", \"mound\", \"mound\", \"mr\", \"mr\", \"mrs\", \"mrs\", \"neatly\", \"neatly\", \"nice\", \"nice\", \"occupied\", \"occupied\", \"oct\", \"oct\", \"oct\", \"oh\", \"oh\", \"old\", \"old\", \"oriental\", \"oriental\", \"oriental\", \"painting\", \"painting\", \"paintings\", \"paintings\", \"palace\", \"palace\", \"palace\", \"panels\", \"panels\", \"patricia\", \"patricia\", \"patterned\", \"patterned\", \"pennant\", \"pennant\", \"pennant\", \"people\", \"people\", \"pete\", \"pete\", \"photograph\", \"photograph\", \"picked\", \"picked\", \"pieces\", \"pieces\", \"pinch\", \"pinch\", \"pitcher\", \"pitcher\", \"pitcher\", \"pitching\", \"pitching\", \"pitching\", \"pittsburgh\", \"pittsburgh\", \"pittsburgh\", \"player\", \"player\", \"player\", \"plays\", \"plays\", \"pool\", \"pool\", \"pool\", \"pope\", \"pope\", \"president\", \"president\", \"program\", \"program\", \"purple\", \"purple\", \"right\", \"right\", \"robinson\", \"robinson\", \"robinson\", \"roger\", \"roger\", \"roger\", \"room\", \"room\", \"row\", \"row\", \"roy\", \"roy\", \"roy\", \"runs\", \"runs\", \"runs\", \"ruth\", \"ruth\", \"ruth\", \"sad\", \"sad\", \"said\", \"said\", \"salesman\", \"salesman\", \"santa\", \"santa\", \"santa\", \"sat\", \"sat\", \"scholastic\", \"scholastic\", \"school\", \"school\", \"scoring\", \"scoring\", \"screw\", \"screw\", \"settling\", \"settling\", \"seventeen\", \"seventeen\", \"shelter\", \"shelter\", \"shooting\", \"shooting\", \"shooting\", \"shot\", \"shot\", \"shot\", \"shots\", \"shots\", \"shoulder\", \"shoulder\", \"sided\", \"sided\", \"silently\", \"silently\", \"simpson\", \"simpson\", \"singing\", \"singing\", \"slide\", \"slide\", \"slowly\", \"slowly\", \"smart\", \"smart\", \"smiled\", \"smiled\", \"snow\", \"snow\", \"spice\", \"spice\", \"spirits\", \"spirits\", \"sprinkling\", \"sprinkling\", \"stadium\", \"stadium\", \"stadium\", \"stared\", \"stared\", \"state\", \"state\", \"states\", \"states\", \"stevens\", \"stevens\", \"stevens\", \"stood\", \"stood\", \"straight\", \"straight\", \"suits\", \"suits\", \"susan\", \"susan\", \"suspected\", \"suspected\", \"tax\", \"tax\", \"team\", \"team\", \"team\", \"terry\", \"terry\", \"thought\", \"thought\", \"tom\", \"tom\", \"tonight\", \"tonight\", \"tonight\", \"troubled\", \"troubled\", \"ugliness\", \"ugliness\", \"unhappily\", \"unhappily\", \"united\", \"united\", \"upstairs\", \"upstairs\", \"vacation\", \"vacation\", \"vacation\", \"vernon\", \"vernon\", \"vernon\", \"waited\", \"waited\", \"walked\", \"walked\", \"walker\", \"walker\", \"walls\", \"walls\", \"wasn\", \"wasn\", \"way\", \"way\", \"widow\", \"widow\", \"wildlife\", \"wildlife\", \"willie\", \"willie\", \"willie\", \"woman\", \"woman\", \"wooden\", \"wooden\", \"work\", \"work\", \"world\", \"world\", \"wouldn\", \"wouldn\", \"yankee\", \"yankee\", \"yankee\", \"yankees\", \"yankees\", \"yankees\", \"yards\", \"yards\", \"yards\", \"yellow\", \"yellow\", \"yes\", \"yes\"]}, \"R\": 30, \"lambda.step\": 0.01, \"plot.opts\": {\"xlab\": \"PC1\", \"ylab\": \"PC2\"}, \"topic.order\": [1, 2, 3, 4, 5, 6, 7, 8, 9, 10]};\n",
       "\n",
       "function LDAvis_load_lib(url, callback){\n",
       "  var s = document.createElement('script');\n",
       "  s.src = url;\n",
       "  s.async = true;\n",
       "  s.onreadystatechange = s.onload = callback;\n",
       "  s.onerror = function(){console.warn(\"failed to load library \" + url);};\n",
       "  document.getElementsByTagName(\"head\")[0].appendChild(s);\n",
       "}\n",
       "\n",
       "if(typeof(LDAvis) !== \"undefined\"){\n",
       "   // already loaded: just create the visualization\n",
       "   !function(LDAvis){\n",
       "       new LDAvis(\"#\" + \"ldavis_el4038414567979234728245288388\", ldavis_el4038414567979234728245288388_data);\n",
       "   }(LDAvis);\n",
       "}else if(typeof define === \"function\" && define.amd){\n",
       "   // require.js is available: use it to load d3/LDAvis\n",
       "   require.config({paths: {d3: \"https://d3js.org/d3.v5\"}});\n",
       "   require([\"d3\"], function(d3){\n",
       "      window.d3 = d3;\n",
       "      LDAvis_load_lib(\"https://cdn.jsdelivr.net/gh/bmabey/pyLDAvis@3.3.1/pyLDAvis/js/ldavis.v3.0.0.js\", function(){\n",
       "        new LDAvis(\"#\" + \"ldavis_el4038414567979234728245288388\", ldavis_el4038414567979234728245288388_data);\n",
       "      });\n",
       "    });\n",
       "}else{\n",
       "    // require.js not available: dynamically load d3 & LDAvis\n",
       "    LDAvis_load_lib(\"https://d3js.org/d3.v5.js\", function(){\n",
       "         LDAvis_load_lib(\"https://cdn.jsdelivr.net/gh/bmabey/pyLDAvis@3.3.1/pyLDAvis/js/ldavis.v3.0.0.js\", function(){\n",
       "                 new LDAvis(\"#\" + \"ldavis_el4038414567979234728245288388\", ldavis_el4038414567979234728245288388_data);\n",
       "            })\n",
       "         });\n",
       "}\n",
       "</script>"
      ],
      "text/plain": [
       "<IPython.core.display.HTML object>"
      ]
     },
     "execution_count": 95,
     "metadata": {},
     "output_type": "execute_result"
    }
   ],
   "source": [
    "pyLDAvis.display(lda_display)"
   ]
  },
  {
   "cell_type": "markdown",
   "id": "a3d14c87",
   "metadata": {},
   "source": [
    "Q: What conclusions do you draw from the visualization above? Please address the principal component scatterplot and the salient terms graph.\n",
    "\n",
    "A: <!-- Your answer here --> The most used words are very formal.  This makes sense since the corpus came from articles written on various topics.  Said, Mr, Mrs, being some of the top words is an obvious sign of a report style of text.\n"
   ]
  },
  {
   "cell_type": "code",
   "execution_count": null,
   "id": "163203c1",
   "metadata": {},
   "outputs": [],
   "source": []
  }
 ],
 "metadata": {
  "kernelspec": {
   "display_name": "Python 3 (ipykernel)",
   "language": "python",
   "name": "python3"
  },
  "language_info": {
   "codemirror_mode": {
    "name": "ipython",
    "version": 3
   },
   "file_extension": ".py",
   "mimetype": "text/x-python",
   "name": "python",
   "nbconvert_exporter": "python",
   "pygments_lexer": "ipython3",
   "version": "3.9.12"
  }
 },
 "nbformat": 4,
 "nbformat_minor": 5
}
